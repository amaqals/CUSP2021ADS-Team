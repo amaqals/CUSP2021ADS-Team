{
 "cells": [
  {
   "cell_type": "markdown",
   "metadata": {},
   "source": [
    "# EPA Dataset"
   ]
  },
  {
   "cell_type": "code",
   "execution_count": 3,
   "metadata": {},
   "outputs": [],
   "source": [
    "import pandas as pd\n",
    "import matplotlib.pyplot as plt\n",
    "%matplotlib inline\n",
    "import geopandas as gpd\n",
    "from geopandas import GeoDataFrame\n",
    "import glob"
   ]
  },
  {
   "cell_type": "markdown",
   "metadata": {},
   "source": [
    "## NO2 Dataset"
   ]
  },
  {
   "cell_type": "markdown",
   "metadata": {},
   "source": [
    "Cleaned version of this dataset is saved on github as EPA_NO2_Cleaned"
   ]
  },
  {
   "cell_type": "code",
   "execution_count": 6,
   "metadata": {},
   "outputs": [
    {
     "ename": "NameError",
     "evalue": "name 'read_files' is not defined",
     "output_type": "error",
     "traceback": [
      "\u001b[0;31m---------------------------------------------------------------------------\u001b[0m",
      "\u001b[0;31mNameError\u001b[0m                                 Traceback (most recent call last)",
      "\u001b[0;32m<ipython-input-6-874cf5447ba5>\u001b[0m in \u001b[0;36m<module>\u001b[0;34m\u001b[0m\n\u001b[1;32m      1\u001b[0m \u001b[0;31m# use your path\u001b[0m\u001b[0;34m\u001b[0m\u001b[0;34m\u001b[0m\u001b[0;34m\u001b[0m\u001b[0m\n\u001b[0;32m----> 2\u001b[0;31m \u001b[0mframe_NO2\u001b[0m \u001b[0;34m=\u001b[0m \u001b[0mread_files\u001b[0m\u001b[0;34m(\u001b[0m\u001b[0;34m'/Users/dinawagdy/Documents/NYU CUSP/Semesters/Spring 2021/Applied Data Science/Project/EPA files/no2'\u001b[0m\u001b[0;34m)\u001b[0m\u001b[0;34m\u001b[0m\u001b[0;34m\u001b[0m\u001b[0m\n\u001b[0m",
      "\u001b[0;31mNameError\u001b[0m: name 'read_files' is not defined"
     ]
    }
   ],
   "source": [
    "# use your path\n",
    "frame_NO2 = read_files('/Users/dinawagdy/Documents/NYU CUSP/Semesters/Spring 2021/Applied Data Science/Project/EPA files/no2')"
   ]
  },
  {
   "cell_type": "code",
   "execution_count": 5,
   "metadata": {},
   "outputs": [
    {
     "ename": "NameError",
     "evalue": "name 'frame_NO2' is not defined",
     "output_type": "error",
     "traceback": [
      "\u001b[0;31m---------------------------------------------------------------------------\u001b[0m",
      "\u001b[0;31mNameError\u001b[0m                                 Traceback (most recent call last)",
      "\u001b[0;32m<ipython-input-5-c8b7326d07dc>\u001b[0m in \u001b[0;36m<module>\u001b[0;34m\u001b[0m\n\u001b[0;32m----> 1\u001b[0;31m \u001b[0mframe_NO2\u001b[0m \u001b[0;34m=\u001b[0m \u001b[0mframe_NO2\u001b[0m\u001b[0;34m.\u001b[0m\u001b[0mloc\u001b[0m\u001b[0;34m[\u001b[0m\u001b[0mframe_NO2\u001b[0m\u001b[0;34m[\u001b[0m\u001b[0;34m'City Name'\u001b[0m\u001b[0;34m]\u001b[0m\u001b[0;34m==\u001b[0m\u001b[0;34m'New York'\u001b[0m\u001b[0;34m]\u001b[0m\u001b[0;34m\u001b[0m\u001b[0;34m\u001b[0m\u001b[0m\n\u001b[0m",
      "\u001b[0;31mNameError\u001b[0m: name 'frame_NO2' is not defined"
     ]
    }
   ],
   "source": [
    "frame_NO2 = frame_NO2.loc[frame_NO2['City Name']=='New York']"
   ]
  },
  {
   "cell_type": "code",
   "execution_count": 54,
   "metadata": {},
   "outputs": [
    {
     "name": "stdout",
     "output_type": "stream",
     "text": [
      "There are 4 sites measuring NO2 in NYC, which are located in: ['Bronx' 'Queens']\n"
     ]
    }
   ],
   "source": [
    "print('There are',len(frame_NO2['Site Num'].unique()),'sites measuring NO2 in NYC, which are located in:',\\\n",
    "      frame_NO2['County Name'].unique())"
   ]
  },
  {
   "cell_type": "code",
   "execution_count": 55,
   "metadata": {},
   "outputs": [
    {
     "data": {
      "text/plain": [
       "Index(['State Code', 'County Code', 'Site Num', 'Parameter Code', 'POC',\n",
       "       'Latitude', 'Longitude', 'Datum', 'Parameter Name', 'Sample Duration',\n",
       "       'Pollutant Standard', 'Date Local', 'Units of Measure', 'Event Type',\n",
       "       'Observation Count', 'Observation Percent', 'Arithmetic Mean',\n",
       "       '1st Max Value', '1st Max Hour', 'AQI', 'Method Code', 'Method Name',\n",
       "       'Local Site Name', 'Address', 'State Name', 'County Name', 'City Name',\n",
       "       'CBSA Name', 'Date of Last Change'],\n",
       "      dtype='object')"
      ]
     },
     "execution_count": 55,
     "metadata": {},
     "output_type": "execute_result"
    }
   ],
   "source": [
    "frame_NO2.columns"
   ]
  },
  {
   "cell_type": "code",
   "execution_count": 59,
   "metadata": {},
   "outputs": [
    {
     "data": {
      "text/html": [
       "<div>\n",
       "<style scoped>\n",
       "    .dataframe tbody tr th:only-of-type {\n",
       "        vertical-align: middle;\n",
       "    }\n",
       "\n",
       "    .dataframe tbody tr th {\n",
       "        vertical-align: top;\n",
       "    }\n",
       "\n",
       "    .dataframe thead th {\n",
       "        text-align: right;\n",
       "    }\n",
       "</style>\n",
       "<table border=\"1\" class=\"dataframe\">\n",
       "  <thead>\n",
       "    <tr style=\"text-align: right;\">\n",
       "      <th></th>\n",
       "      <th>County Code</th>\n",
       "      <th>Site Num</th>\n",
       "      <th>Parameter Code</th>\n",
       "      <th>Latitude</th>\n",
       "      <th>Longitude</th>\n",
       "      <th>Datum</th>\n",
       "      <th>Parameter Name</th>\n",
       "      <th>Sample Duration</th>\n",
       "      <th>Date Local</th>\n",
       "      <th>Units of Measure</th>\n",
       "      <th>Observation Count</th>\n",
       "      <th>Observation Percent</th>\n",
       "      <th>Arithmetic Mean</th>\n",
       "      <th>1st Max Value</th>\n",
       "      <th>1st Max Hour</th>\n",
       "      <th>AQI</th>\n",
       "      <th>Local Site Name</th>\n",
       "      <th>Address</th>\n",
       "      <th>County Name</th>\n",
       "    </tr>\n",
       "  </thead>\n",
       "  <tbody>\n",
       "    <tr>\n",
       "      <th>95729</th>\n",
       "      <td>5</td>\n",
       "      <td>110</td>\n",
       "      <td>42602</td>\n",
       "      <td>40.816</td>\n",
       "      <td>-73.902</td>\n",
       "      <td>WGS84</td>\n",
       "      <td>Nitrogen dioxide (NO2)</td>\n",
       "      <td>1 HOUR</td>\n",
       "      <td>2016-01-01</td>\n",
       "      <td>Parts per billion</td>\n",
       "      <td>24</td>\n",
       "      <td>100.0</td>\n",
       "      <td>11.345833</td>\n",
       "      <td>17.7</td>\n",
       "      <td>18</td>\n",
       "      <td>16</td>\n",
       "      <td>IS 52</td>\n",
       "      <td>IS 52    681 KELLY ST</td>\n",
       "      <td>Bronx</td>\n",
       "    </tr>\n",
       "    <tr>\n",
       "      <th>95730</th>\n",
       "      <td>5</td>\n",
       "      <td>110</td>\n",
       "      <td>42602</td>\n",
       "      <td>40.816</td>\n",
       "      <td>-73.902</td>\n",
       "      <td>WGS84</td>\n",
       "      <td>Nitrogen dioxide (NO2)</td>\n",
       "      <td>1 HOUR</td>\n",
       "      <td>2016-01-02</td>\n",
       "      <td>Parts per billion</td>\n",
       "      <td>24</td>\n",
       "      <td>100.0</td>\n",
       "      <td>15.683333</td>\n",
       "      <td>22.3</td>\n",
       "      <td>22</td>\n",
       "      <td>21</td>\n",
       "      <td>IS 52</td>\n",
       "      <td>IS 52    681 KELLY ST</td>\n",
       "      <td>Bronx</td>\n",
       "    </tr>\n",
       "    <tr>\n",
       "      <th>95731</th>\n",
       "      <td>5</td>\n",
       "      <td>110</td>\n",
       "      <td>42602</td>\n",
       "      <td>40.816</td>\n",
       "      <td>-73.902</td>\n",
       "      <td>WGS84</td>\n",
       "      <td>Nitrogen dioxide (NO2)</td>\n",
       "      <td>1 HOUR</td>\n",
       "      <td>2016-01-03</td>\n",
       "      <td>Parts per billion</td>\n",
       "      <td>24</td>\n",
       "      <td>100.0</td>\n",
       "      <td>19.554167</td>\n",
       "      <td>30.1</td>\n",
       "      <td>8</td>\n",
       "      <td>28</td>\n",
       "      <td>IS 52</td>\n",
       "      <td>IS 52    681 KELLY ST</td>\n",
       "      <td>Bronx</td>\n",
       "    </tr>\n",
       "    <tr>\n",
       "      <th>95732</th>\n",
       "      <td>5</td>\n",
       "      <td>110</td>\n",
       "      <td>42602</td>\n",
       "      <td>40.816</td>\n",
       "      <td>-73.902</td>\n",
       "      <td>WGS84</td>\n",
       "      <td>Nitrogen dioxide (NO2)</td>\n",
       "      <td>1 HOUR</td>\n",
       "      <td>2016-01-04</td>\n",
       "      <td>Parts per billion</td>\n",
       "      <td>24</td>\n",
       "      <td>100.0</td>\n",
       "      <td>12.645833</td>\n",
       "      <td>21.1</td>\n",
       "      <td>0</td>\n",
       "      <td>20</td>\n",
       "      <td>IS 52</td>\n",
       "      <td>IS 52    681 KELLY ST</td>\n",
       "      <td>Bronx</td>\n",
       "    </tr>\n",
       "    <tr>\n",
       "      <th>95733</th>\n",
       "      <td>5</td>\n",
       "      <td>110</td>\n",
       "      <td>42602</td>\n",
       "      <td>40.816</td>\n",
       "      <td>-73.902</td>\n",
       "      <td>WGS84</td>\n",
       "      <td>Nitrogen dioxide (NO2)</td>\n",
       "      <td>1 HOUR</td>\n",
       "      <td>2016-01-05</td>\n",
       "      <td>Parts per billion</td>\n",
       "      <td>24</td>\n",
       "      <td>100.0</td>\n",
       "      <td>22.712500</td>\n",
       "      <td>39.1</td>\n",
       "      <td>19</td>\n",
       "      <td>37</td>\n",
       "      <td>IS 52</td>\n",
       "      <td>IS 52    681 KELLY ST</td>\n",
       "      <td>Bronx</td>\n",
       "    </tr>\n",
       "  </tbody>\n",
       "</table>\n",
       "</div>"
      ],
      "text/plain": [
       "       County Code  Site Num  Parameter Code  Latitude  Longitude  Datum  \\\n",
       "95729            5       110           42602    40.816    -73.902  WGS84   \n",
       "95730            5       110           42602    40.816    -73.902  WGS84   \n",
       "95731            5       110           42602    40.816    -73.902  WGS84   \n",
       "95732            5       110           42602    40.816    -73.902  WGS84   \n",
       "95733            5       110           42602    40.816    -73.902  WGS84   \n",
       "\n",
       "               Parameter Name Sample Duration  Date Local   Units of Measure  \\\n",
       "95729  Nitrogen dioxide (NO2)          1 HOUR  2016-01-01  Parts per billion   \n",
       "95730  Nitrogen dioxide (NO2)          1 HOUR  2016-01-02  Parts per billion   \n",
       "95731  Nitrogen dioxide (NO2)          1 HOUR  2016-01-03  Parts per billion   \n",
       "95732  Nitrogen dioxide (NO2)          1 HOUR  2016-01-04  Parts per billion   \n",
       "95733  Nitrogen dioxide (NO2)          1 HOUR  2016-01-05  Parts per billion   \n",
       "\n",
       "       Observation Count  Observation Percent  Arithmetic Mean  1st Max Value  \\\n",
       "95729                 24                100.0        11.345833           17.7   \n",
       "95730                 24                100.0        15.683333           22.3   \n",
       "95731                 24                100.0        19.554167           30.1   \n",
       "95732                 24                100.0        12.645833           21.1   \n",
       "95733                 24                100.0        22.712500           39.1   \n",
       "\n",
       "       1st Max Hour  AQI Local Site Name                Address County Name  \n",
       "95729            18   16           IS 52  IS 52    681 KELLY ST       Bronx  \n",
       "95730            22   21           IS 52  IS 52    681 KELLY ST       Bronx  \n",
       "95731             8   28           IS 52  IS 52    681 KELLY ST       Bronx  \n",
       "95732             0   20           IS 52  IS 52    681 KELLY ST       Bronx  \n",
       "95733            19   37           IS 52  IS 52    681 KELLY ST       Bronx  "
      ]
     },
     "execution_count": 59,
     "metadata": {},
     "output_type": "execute_result"
    }
   ],
   "source": [
    "#keeping relevant columns only\n",
    "frame_NO2 = frame_NO2[['County Code','Site Num','Parameter Code','Latitude', 'Longitude', 'Datum',\n",
    "                       'Parameter Name', 'Sample Duration','Date Local', 'Units of Measure',\n",
    "                       'Observation Count', 'Observation Percent','Arithmetic Mean','1st Max Value',\n",
    "                       '1st Max Hour', 'AQI','Local Site Name', 'Address','County Name']]\n",
    "frame_NO2.head()"
   ]
  },
  {
   "cell_type": "code",
   "execution_count": 60,
   "metadata": {},
   "outputs": [
    {
     "data": {
      "text/html": [
       "<div>\n",
       "<style scoped>\n",
       "    .dataframe tbody tr th:only-of-type {\n",
       "        vertical-align: middle;\n",
       "    }\n",
       "\n",
       "    .dataframe tbody tr th {\n",
       "        vertical-align: top;\n",
       "    }\n",
       "\n",
       "    .dataframe thead th {\n",
       "        text-align: right;\n",
       "    }\n",
       "</style>\n",
       "<table border=\"1\" class=\"dataframe\">\n",
       "  <thead>\n",
       "    <tr style=\"text-align: right;\">\n",
       "      <th></th>\n",
       "      <th>County Code</th>\n",
       "      <th>Site Num</th>\n",
       "      <th>Parameter Code</th>\n",
       "      <th>Latitude</th>\n",
       "      <th>Longitude</th>\n",
       "      <th>Observation Count</th>\n",
       "      <th>Observation Percent</th>\n",
       "      <th>Arithmetic Mean</th>\n",
       "      <th>1st Max Value</th>\n",
       "      <th>1st Max Hour</th>\n",
       "      <th>AQI</th>\n",
       "    </tr>\n",
       "  </thead>\n",
       "  <tbody>\n",
       "    <tr>\n",
       "      <th>count</th>\n",
       "      <td>11081.000000</td>\n",
       "      <td>11081.000000</td>\n",
       "      <td>11081.0</td>\n",
       "      <td>11081.000000</td>\n",
       "      <td>11081.000000</td>\n",
       "      <td>11081.000000</td>\n",
       "      <td>11081.000000</td>\n",
       "      <td>11081.000000</td>\n",
       "      <td>11081.000000</td>\n",
       "      <td>11081.000000</td>\n",
       "      <td>11081.000000</td>\n",
       "    </tr>\n",
       "    <tr>\n",
       "      <th>mean</th>\n",
       "      <td>36.871853</td>\n",
       "      <td>123.317751</td>\n",
       "      <td>42602.0</td>\n",
       "      <td>40.799408</td>\n",
       "      <td>-73.860207</td>\n",
       "      <td>23.357368</td>\n",
       "      <td>97.346088</td>\n",
       "      <td>16.801550</td>\n",
       "      <td>30.625819</td>\n",
       "      <td>11.705712</td>\n",
       "      <td>28.482628</td>\n",
       "    </tr>\n",
       "    <tr>\n",
       "      <th>std</th>\n",
       "      <td>37.504303</td>\n",
       "      <td>8.761749</td>\n",
       "      <td>0.0</td>\n",
       "      <td>0.056616</td>\n",
       "      <td>0.034935</td>\n",
       "      <td>1.874608</td>\n",
       "      <td>7.790753</td>\n",
       "      <td>7.989812</td>\n",
       "      <td>12.504717</td>\n",
       "      <td>8.077632</td>\n",
       "      <td>11.886052</td>\n",
       "    </tr>\n",
       "    <tr>\n",
       "      <th>min</th>\n",
       "      <td>5.000000</td>\n",
       "      <td>110.000000</td>\n",
       "      <td>42602.0</td>\n",
       "      <td>40.736140</td>\n",
       "      <td>-73.902000</td>\n",
       "      <td>3.000000</td>\n",
       "      <td>13.000000</td>\n",
       "      <td>2.304167</td>\n",
       "      <td>3.100000</td>\n",
       "      <td>0.000000</td>\n",
       "      <td>3.000000</td>\n",
       "    </tr>\n",
       "    <tr>\n",
       "      <th>25%</th>\n",
       "      <td>5.000000</td>\n",
       "      <td>110.000000</td>\n",
       "      <td>42602.0</td>\n",
       "      <td>40.736140</td>\n",
       "      <td>-73.902000</td>\n",
       "      <td>24.000000</td>\n",
       "      <td>100.000000</td>\n",
       "      <td>10.912500</td>\n",
       "      <td>21.000000</td>\n",
       "      <td>5.000000</td>\n",
       "      <td>20.000000</td>\n",
       "    </tr>\n",
       "    <tr>\n",
       "      <th>50%</th>\n",
       "      <td>5.000000</td>\n",
       "      <td>124.000000</td>\n",
       "      <td>42602.0</td>\n",
       "      <td>40.816000</td>\n",
       "      <td>-73.878090</td>\n",
       "      <td>24.000000</td>\n",
       "      <td>100.000000</td>\n",
       "      <td>15.258333</td>\n",
       "      <td>29.700000</td>\n",
       "      <td>8.000000</td>\n",
       "      <td>27.000000</td>\n",
       "    </tr>\n",
       "    <tr>\n",
       "      <th>75%</th>\n",
       "      <td>81.000000</td>\n",
       "      <td>133.000000</td>\n",
       "      <td>42602.0</td>\n",
       "      <td>40.867900</td>\n",
       "      <td>-73.821530</td>\n",
       "      <td>24.000000</td>\n",
       "      <td>100.000000</td>\n",
       "      <td>21.200000</td>\n",
       "      <td>39.100000</td>\n",
       "      <td>20.000000</td>\n",
       "      <td>37.000000</td>\n",
       "    </tr>\n",
       "    <tr>\n",
       "      <th>max</th>\n",
       "      <td>81.000000</td>\n",
       "      <td>133.000000</td>\n",
       "      <td>42602.0</td>\n",
       "      <td>40.867900</td>\n",
       "      <td>-73.817694</td>\n",
       "      <td>24.000000</td>\n",
       "      <td>100.000000</td>\n",
       "      <td>71.550000</td>\n",
       "      <td>121.700000</td>\n",
       "      <td>23.000000</td>\n",
       "      <td>105.000000</td>\n",
       "    </tr>\n",
       "  </tbody>\n",
       "</table>\n",
       "</div>"
      ],
      "text/plain": [
       "        County Code      Site Num  Parameter Code      Latitude     Longitude  \\\n",
       "count  11081.000000  11081.000000         11081.0  11081.000000  11081.000000   \n",
       "mean      36.871853    123.317751         42602.0     40.799408    -73.860207   \n",
       "std       37.504303      8.761749             0.0      0.056616      0.034935   \n",
       "min        5.000000    110.000000         42602.0     40.736140    -73.902000   \n",
       "25%        5.000000    110.000000         42602.0     40.736140    -73.902000   \n",
       "50%        5.000000    124.000000         42602.0     40.816000    -73.878090   \n",
       "75%       81.000000    133.000000         42602.0     40.867900    -73.821530   \n",
       "max       81.000000    133.000000         42602.0     40.867900    -73.817694   \n",
       "\n",
       "       Observation Count  Observation Percent  Arithmetic Mean  1st Max Value  \\\n",
       "count       11081.000000         11081.000000     11081.000000   11081.000000   \n",
       "mean           23.357368            97.346088        16.801550      30.625819   \n",
       "std             1.874608             7.790753         7.989812      12.504717   \n",
       "min             3.000000            13.000000         2.304167       3.100000   \n",
       "25%            24.000000           100.000000        10.912500      21.000000   \n",
       "50%            24.000000           100.000000        15.258333      29.700000   \n",
       "75%            24.000000           100.000000        21.200000      39.100000   \n",
       "max            24.000000           100.000000        71.550000     121.700000   \n",
       "\n",
       "       1st Max Hour           AQI  \n",
       "count  11081.000000  11081.000000  \n",
       "mean      11.705712     28.482628  \n",
       "std        8.077632     11.886052  \n",
       "min        0.000000      3.000000  \n",
       "25%        5.000000     20.000000  \n",
       "50%        8.000000     27.000000  \n",
       "75%       20.000000     37.000000  \n",
       "max       23.000000    105.000000  "
      ]
     },
     "execution_count": 60,
     "metadata": {},
     "output_type": "execute_result"
    }
   ],
   "source": [
    "frame_NO2.describe() #values appear to be reasonable"
   ]
  },
  {
   "cell_type": "code",
   "execution_count": 235,
   "metadata": {},
   "outputs": [],
   "source": [
    "frame_NO2 = frame_NO2.sort_values(by = 'Date Local').reset_index()"
   ]
  },
  {
   "cell_type": "code",
   "execution_count": 239,
   "metadata": {},
   "outputs": [],
   "source": [
    "frame_NO2['Date Local'] =  pd.to_datetime(frame_NO2['Date Local'], format='%Y-%m-%d')"
   ]
  },
  {
   "cell_type": "code",
   "execution_count": 243,
   "metadata": {},
   "outputs": [],
   "source": [
    "frame_NO2.to_csv('/Users/dinawagdy/Documents/NYU CUSP/Semesters/Spring 2021/Applied Data Science/Project/EPA files/no2/EPA_NO2_cleaned.csv')"
   ]
  },
  {
   "cell_type": "code",
   "execution_count": 8,
   "metadata": {},
   "outputs": [],
   "source": [
    "#if you want to read the cleaned version\n",
    "path = '/Users/dinawagdy/Documents/NYU CUSP/Semesters/Spring 2021/Applied Data Science/Project/EPA files/no2/'\n",
    "frame_NO2 = pd.read_csv(path+'EPA_NO2_cleaned.csv')"
   ]
  },
  {
   "cell_type": "markdown",
   "metadata": {},
   "source": [
    "## SO2 Dataset"
   ]
  },
  {
   "cell_type": "markdown",
   "metadata": {},
   "source": [
    "Cleaned version of this dataset is saved on github as EPA_SO2_Cleaned"
   ]
  },
  {
   "cell_type": "code",
   "execution_count": 75,
   "metadata": {},
   "outputs": [],
   "source": [
    "# use your path\n",
    "frame_SO2 = read_files('/Users/dinawagdy/Documents/NYU CUSP/Semesters/Spring 2021/Applied Data Science/Project/EPA files/so2')"
   ]
  },
  {
   "cell_type": "code",
   "execution_count": 77,
   "metadata": {},
   "outputs": [
    {
     "data": {
      "text/plain": [
       "(3175073, 30)"
      ]
     },
     "execution_count": 77,
     "metadata": {},
     "output_type": "execute_result"
    }
   ],
   "source": [
    "frame_SO2.shape"
   ]
  },
  {
   "cell_type": "code",
   "execution_count": 78,
   "metadata": {},
   "outputs": [
    {
     "name": "stdout",
     "output_type": "stream",
     "text": [
      "There are 3 sites measuring SO2 in NYC, which are located in: ['Bronx' 'Queens']\n"
     ]
    }
   ],
   "source": [
    "frame_SO2 = frame_SO2.loc[frame_SO2['City Name']=='New York']\n",
    "print('There are',len(frame_SO2['Site Num'].unique()),'sites measuring SO2 in NYC, which are located in:',\\\n",
    "      frame_SO2['County Name'].unique())"
   ]
  },
  {
   "cell_type": "code",
   "execution_count": 79,
   "metadata": {},
   "outputs": [
    {
     "data": {
      "text/plain": [
       "Index(['Unnamed: 0', 'County Code', 'Site Num', 'Parameter Code', 'Latitude',\n",
       "       'Longitude', 'Datum', 'Parameter Name', 'Sample Duration', 'Date Local',\n",
       "       'Units of Measure', 'Observation Count', 'Observation Percent',\n",
       "       'Arithmetic Mean', '1st Max Value', '1st Max Hour', 'AQI',\n",
       "       'Local Site Name', 'Address', 'County Name', 'State Code', 'POC',\n",
       "       'Pollutant Standard', 'Event Type', 'Method Code', 'Method Name',\n",
       "       'State Name', 'City Name', 'CBSA Name', 'Date of Last Change'],\n",
       "      dtype='object')"
      ]
     },
     "execution_count": 79,
     "metadata": {},
     "output_type": "execute_result"
    }
   ],
   "source": [
    "frame_SO2.columns"
   ]
  },
  {
   "cell_type": "code",
   "execution_count": 80,
   "metadata": {},
   "outputs": [
    {
     "data": {
      "text/html": [
       "<div>\n",
       "<style scoped>\n",
       "    .dataframe tbody tr th:only-of-type {\n",
       "        vertical-align: middle;\n",
       "    }\n",
       "\n",
       "    .dataframe tbody tr th {\n",
       "        vertical-align: top;\n",
       "    }\n",
       "\n",
       "    .dataframe thead th {\n",
       "        text-align: right;\n",
       "    }\n",
       "</style>\n",
       "<table border=\"1\" class=\"dataframe\">\n",
       "  <thead>\n",
       "    <tr style=\"text-align: right;\">\n",
       "      <th></th>\n",
       "      <th>County Code</th>\n",
       "      <th>Site Num</th>\n",
       "      <th>Parameter Code</th>\n",
       "      <th>Latitude</th>\n",
       "      <th>Longitude</th>\n",
       "      <th>Datum</th>\n",
       "      <th>Parameter Name</th>\n",
       "      <th>Sample Duration</th>\n",
       "      <th>Date Local</th>\n",
       "      <th>Units of Measure</th>\n",
       "      <th>Observation Count</th>\n",
       "      <th>Observation Percent</th>\n",
       "      <th>Arithmetic Mean</th>\n",
       "      <th>1st Max Value</th>\n",
       "      <th>1st Max Hour</th>\n",
       "      <th>AQI</th>\n",
       "      <th>Local Site Name</th>\n",
       "      <th>Address</th>\n",
       "      <th>County Name</th>\n",
       "    </tr>\n",
       "  </thead>\n",
       "  <tbody>\n",
       "    <tr>\n",
       "      <th>200236</th>\n",
       "      <td>5</td>\n",
       "      <td>110</td>\n",
       "      <td>42401</td>\n",
       "      <td>40.816</td>\n",
       "      <td>-73.902</td>\n",
       "      <td>WGS84</td>\n",
       "      <td>Sulfur dioxide</td>\n",
       "      <td>1 HOUR</td>\n",
       "      <td>2018-01-01</td>\n",
       "      <td>Parts per billion</td>\n",
       "      <td>24</td>\n",
       "      <td>100.0</td>\n",
       "      <td>0.879167</td>\n",
       "      <td>1.5</td>\n",
       "      <td>22</td>\n",
       "      <td>1.0</td>\n",
       "      <td>IS 52</td>\n",
       "      <td>IS 52    681 KELLY ST</td>\n",
       "      <td>Bronx</td>\n",
       "    </tr>\n",
       "    <tr>\n",
       "      <th>200237</th>\n",
       "      <td>5</td>\n",
       "      <td>110</td>\n",
       "      <td>42401</td>\n",
       "      <td>40.816</td>\n",
       "      <td>-73.902</td>\n",
       "      <td>WGS84</td>\n",
       "      <td>Sulfur dioxide</td>\n",
       "      <td>1 HOUR</td>\n",
       "      <td>2018-01-02</td>\n",
       "      <td>Parts per billion</td>\n",
       "      <td>22</td>\n",
       "      <td>92.0</td>\n",
       "      <td>1.372727</td>\n",
       "      <td>2.2</td>\n",
       "      <td>8</td>\n",
       "      <td>3.0</td>\n",
       "      <td>IS 52</td>\n",
       "      <td>IS 52    681 KELLY ST</td>\n",
       "      <td>Bronx</td>\n",
       "    </tr>\n",
       "    <tr>\n",
       "      <th>200238</th>\n",
       "      <td>5</td>\n",
       "      <td>110</td>\n",
       "      <td>42401</td>\n",
       "      <td>40.816</td>\n",
       "      <td>-73.902</td>\n",
       "      <td>WGS84</td>\n",
       "      <td>Sulfur dioxide</td>\n",
       "      <td>1 HOUR</td>\n",
       "      <td>2018-01-03</td>\n",
       "      <td>Parts per billion</td>\n",
       "      <td>24</td>\n",
       "      <td>100.0</td>\n",
       "      <td>3.937500</td>\n",
       "      <td>11.6</td>\n",
       "      <td>13</td>\n",
       "      <td>16.0</td>\n",
       "      <td>IS 52</td>\n",
       "      <td>IS 52    681 KELLY ST</td>\n",
       "      <td>Bronx</td>\n",
       "    </tr>\n",
       "    <tr>\n",
       "      <th>200239</th>\n",
       "      <td>5</td>\n",
       "      <td>110</td>\n",
       "      <td>42401</td>\n",
       "      <td>40.816</td>\n",
       "      <td>-73.902</td>\n",
       "      <td>WGS84</td>\n",
       "      <td>Sulfur dioxide</td>\n",
       "      <td>1 HOUR</td>\n",
       "      <td>2018-01-04</td>\n",
       "      <td>Parts per billion</td>\n",
       "      <td>24</td>\n",
       "      <td>100.0</td>\n",
       "      <td>1.575000</td>\n",
       "      <td>3.2</td>\n",
       "      <td>4</td>\n",
       "      <td>4.0</td>\n",
       "      <td>IS 52</td>\n",
       "      <td>IS 52    681 KELLY ST</td>\n",
       "      <td>Bronx</td>\n",
       "    </tr>\n",
       "    <tr>\n",
       "      <th>200240</th>\n",
       "      <td>5</td>\n",
       "      <td>110</td>\n",
       "      <td>42401</td>\n",
       "      <td>40.816</td>\n",
       "      <td>-73.902</td>\n",
       "      <td>WGS84</td>\n",
       "      <td>Sulfur dioxide</td>\n",
       "      <td>1 HOUR</td>\n",
       "      <td>2018-01-05</td>\n",
       "      <td>Parts per billion</td>\n",
       "      <td>24</td>\n",
       "      <td>100.0</td>\n",
       "      <td>0.737500</td>\n",
       "      <td>0.9</td>\n",
       "      <td>6</td>\n",
       "      <td>0.0</td>\n",
       "      <td>IS 52</td>\n",
       "      <td>IS 52    681 KELLY ST</td>\n",
       "      <td>Bronx</td>\n",
       "    </tr>\n",
       "  </tbody>\n",
       "</table>\n",
       "</div>"
      ],
      "text/plain": [
       "        County Code  Site Num  Parameter Code  Latitude  Longitude  Datum  \\\n",
       "200236            5       110           42401    40.816    -73.902  WGS84   \n",
       "200237            5       110           42401    40.816    -73.902  WGS84   \n",
       "200238            5       110           42401    40.816    -73.902  WGS84   \n",
       "200239            5       110           42401    40.816    -73.902  WGS84   \n",
       "200240            5       110           42401    40.816    -73.902  WGS84   \n",
       "\n",
       "        Parameter Name Sample Duration  Date Local   Units of Measure  \\\n",
       "200236  Sulfur dioxide          1 HOUR  2018-01-01  Parts per billion   \n",
       "200237  Sulfur dioxide          1 HOUR  2018-01-02  Parts per billion   \n",
       "200238  Sulfur dioxide          1 HOUR  2018-01-03  Parts per billion   \n",
       "200239  Sulfur dioxide          1 HOUR  2018-01-04  Parts per billion   \n",
       "200240  Sulfur dioxide          1 HOUR  2018-01-05  Parts per billion   \n",
       "\n",
       "        Observation Count  Observation Percent  Arithmetic Mean  \\\n",
       "200236                 24                100.0         0.879167   \n",
       "200237                 22                 92.0         1.372727   \n",
       "200238                 24                100.0         3.937500   \n",
       "200239                 24                100.0         1.575000   \n",
       "200240                 24                100.0         0.737500   \n",
       "\n",
       "        1st Max Value  1st Max Hour   AQI Local Site Name  \\\n",
       "200236            1.5            22   1.0           IS 52   \n",
       "200237            2.2             8   3.0           IS 52   \n",
       "200238           11.6            13  16.0           IS 52   \n",
       "200239            3.2             4   4.0           IS 52   \n",
       "200240            0.9             6   0.0           IS 52   \n",
       "\n",
       "                      Address County Name  \n",
       "200236  IS 52    681 KELLY ST       Bronx  \n",
       "200237  IS 52    681 KELLY ST       Bronx  \n",
       "200238  IS 52    681 KELLY ST       Bronx  \n",
       "200239  IS 52    681 KELLY ST       Bronx  \n",
       "200240  IS 52    681 KELLY ST       Bronx  "
      ]
     },
     "execution_count": 80,
     "metadata": {},
     "output_type": "execute_result"
    }
   ],
   "source": [
    "#keeping relevant columns only\n",
    "frame_SO2 = frame_SO2[['County Code','Site Num','Parameter Code','Latitude', 'Longitude', 'Datum',\n",
    "                       'Parameter Name', 'Sample Duration','Date Local', 'Units of Measure',\n",
    "                       'Observation Count', 'Observation Percent','Arithmetic Mean','1st Max Value',\n",
    "                       '1st Max Hour', 'AQI','Local Site Name', 'Address','County Name']]\n",
    "frame_SO2.head()"
   ]
  },
  {
   "cell_type": "code",
   "execution_count": 81,
   "metadata": {},
   "outputs": [
    {
     "data": {
      "text/html": [
       "<div>\n",
       "<style scoped>\n",
       "    .dataframe tbody tr th:only-of-type {\n",
       "        vertical-align: middle;\n",
       "    }\n",
       "\n",
       "    .dataframe tbody tr th {\n",
       "        vertical-align: top;\n",
       "    }\n",
       "\n",
       "    .dataframe thead th {\n",
       "        text-align: right;\n",
       "    }\n",
       "</style>\n",
       "<table border=\"1\" class=\"dataframe\">\n",
       "  <thead>\n",
       "    <tr style=\"text-align: right;\">\n",
       "      <th></th>\n",
       "      <th>County Code</th>\n",
       "      <th>Site Num</th>\n",
       "      <th>Parameter Code</th>\n",
       "      <th>Latitude</th>\n",
       "      <th>Longitude</th>\n",
       "      <th>Observation Count</th>\n",
       "      <th>Observation Percent</th>\n",
       "      <th>Arithmetic Mean</th>\n",
       "      <th>1st Max Value</th>\n",
       "      <th>1st Max Hour</th>\n",
       "      <th>AQI</th>\n",
       "    </tr>\n",
       "  </thead>\n",
       "  <tbody>\n",
       "    <tr>\n",
       "      <th>count</th>\n",
       "      <td>20128.000000</td>\n",
       "      <td>20128.000000</td>\n",
       "      <td>20128.0</td>\n",
       "      <td>20128.000000</td>\n",
       "      <td>20128.000000</td>\n",
       "      <td>20128.000000</td>\n",
       "      <td>20128.000000</td>\n",
       "      <td>20128.000000</td>\n",
       "      <td>20128.000000</td>\n",
       "      <td>20128.000000</td>\n",
       "      <td>10064.000000</td>\n",
       "    </tr>\n",
       "    <tr>\n",
       "      <th>mean</th>\n",
       "      <td>31.853736</td>\n",
       "      <td>123.073529</td>\n",
       "      <td>42401.0</td>\n",
       "      <td>40.806121</td>\n",
       "      <td>-73.865119</td>\n",
       "      <td>15.635533</td>\n",
       "      <td>97.431141</td>\n",
       "      <td>1.208718</td>\n",
       "      <td>2.517518</td>\n",
       "      <td>10.734350</td>\n",
       "      <td>3.297297</td>\n",
       "    </tr>\n",
       "    <tr>\n",
       "      <th>std</th>\n",
       "      <td>36.329415</td>\n",
       "      <td>9.233503</td>\n",
       "      <td>0.0</td>\n",
       "      <td>0.055747</td>\n",
       "      <td>0.033613</td>\n",
       "      <td>7.970190</td>\n",
       "      <td>7.126746</td>\n",
       "      <td>1.724764</td>\n",
       "      <td>3.579216</td>\n",
       "      <td>6.870284</td>\n",
       "      <td>5.626545</td>\n",
       "    </tr>\n",
       "    <tr>\n",
       "      <th>min</th>\n",
       "      <td>5.000000</td>\n",
       "      <td>110.000000</td>\n",
       "      <td>42401.0</td>\n",
       "      <td>40.736140</td>\n",
       "      <td>-73.902000</td>\n",
       "      <td>1.000000</td>\n",
       "      <td>13.000000</td>\n",
       "      <td>-0.579167</td>\n",
       "      <td>-0.300000</td>\n",
       "      <td>0.000000</td>\n",
       "      <td>0.000000</td>\n",
       "    </tr>\n",
       "    <tr>\n",
       "      <th>25%</th>\n",
       "      <td>5.000000</td>\n",
       "      <td>110.000000</td>\n",
       "      <td>42401.0</td>\n",
       "      <td>40.736140</td>\n",
       "      <td>-73.902000</td>\n",
       "      <td>8.000000</td>\n",
       "      <td>100.000000</td>\n",
       "      <td>0.287500</td>\n",
       "      <td>0.600000</td>\n",
       "      <td>6.000000</td>\n",
       "      <td>0.000000</td>\n",
       "    </tr>\n",
       "    <tr>\n",
       "      <th>50%</th>\n",
       "      <td>5.000000</td>\n",
       "      <td>124.000000</td>\n",
       "      <td>42401.0</td>\n",
       "      <td>40.816000</td>\n",
       "      <td>-73.878090</td>\n",
       "      <td>8.000000</td>\n",
       "      <td>100.000000</td>\n",
       "      <td>0.625000</td>\n",
       "      <td>1.300000</td>\n",
       "      <td>8.000000</td>\n",
       "      <td>1.000000</td>\n",
       "    </tr>\n",
       "    <tr>\n",
       "      <th>75%</th>\n",
       "      <td>81.000000</td>\n",
       "      <td>133.000000</td>\n",
       "      <td>42401.0</td>\n",
       "      <td>40.867900</td>\n",
       "      <td>-73.821530</td>\n",
       "      <td>24.000000</td>\n",
       "      <td>100.000000</td>\n",
       "      <td>1.375000</td>\n",
       "      <td>2.900000</td>\n",
       "      <td>17.000000</td>\n",
       "      <td>4.000000</td>\n",
       "    </tr>\n",
       "    <tr>\n",
       "      <th>max</th>\n",
       "      <td>81.000000</td>\n",
       "      <td>133.000000</td>\n",
       "      <td>42401.0</td>\n",
       "      <td>40.867900</td>\n",
       "      <td>-73.821530</td>\n",
       "      <td>24.000000</td>\n",
       "      <td>100.000000</td>\n",
       "      <td>26.950000</td>\n",
       "      <td>64.100000</td>\n",
       "      <td>23.000000</td>\n",
       "      <td>86.000000</td>\n",
       "    </tr>\n",
       "  </tbody>\n",
       "</table>\n",
       "</div>"
      ],
      "text/plain": [
       "        County Code      Site Num  Parameter Code      Latitude     Longitude  \\\n",
       "count  20128.000000  20128.000000         20128.0  20128.000000  20128.000000   \n",
       "mean      31.853736    123.073529         42401.0     40.806121    -73.865119   \n",
       "std       36.329415      9.233503             0.0      0.055747      0.033613   \n",
       "min        5.000000    110.000000         42401.0     40.736140    -73.902000   \n",
       "25%        5.000000    110.000000         42401.0     40.736140    -73.902000   \n",
       "50%        5.000000    124.000000         42401.0     40.816000    -73.878090   \n",
       "75%       81.000000    133.000000         42401.0     40.867900    -73.821530   \n",
       "max       81.000000    133.000000         42401.0     40.867900    -73.821530   \n",
       "\n",
       "       Observation Count  Observation Percent  Arithmetic Mean  1st Max Value  \\\n",
       "count       20128.000000         20128.000000     20128.000000   20128.000000   \n",
       "mean           15.635533            97.431141         1.208718       2.517518   \n",
       "std             7.970190             7.126746         1.724764       3.579216   \n",
       "min             1.000000            13.000000        -0.579167      -0.300000   \n",
       "25%             8.000000           100.000000         0.287500       0.600000   \n",
       "50%             8.000000           100.000000         0.625000       1.300000   \n",
       "75%            24.000000           100.000000         1.375000       2.900000   \n",
       "max            24.000000           100.000000        26.950000      64.100000   \n",
       "\n",
       "       1st Max Hour           AQI  \n",
       "count  20128.000000  10064.000000  \n",
       "mean      10.734350      3.297297  \n",
       "std        6.870284      5.626545  \n",
       "min        0.000000      0.000000  \n",
       "25%        6.000000      0.000000  \n",
       "50%        8.000000      1.000000  \n",
       "75%       17.000000      4.000000  \n",
       "max       23.000000     86.000000  "
      ]
     },
     "execution_count": 81,
     "metadata": {},
     "output_type": "execute_result"
    }
   ],
   "source": [
    "frame_SO2.describe() #values appear to be reasonable"
   ]
  },
  {
   "cell_type": "code",
   "execution_count": 82,
   "metadata": {},
   "outputs": [
    {
     "data": {
      "text/plain": [
       "(20128, 19)"
      ]
     },
     "execution_count": 82,
     "metadata": {},
     "output_type": "execute_result"
    }
   ],
   "source": [
    "frame_SO2.shape"
   ]
  },
  {
   "cell_type": "code",
   "execution_count": 233,
   "metadata": {},
   "outputs": [],
   "source": [
    "frame_SO2 = frame_SO2.sort_values(by = 'Date Local').reset_index()"
   ]
  },
  {
   "cell_type": "code",
   "execution_count": 244,
   "metadata": {},
   "outputs": [],
   "source": [
    "frame_SO2['Date Local'] =  pd.to_datetime(frame_SO2['Date Local'], format='%Y-%m-%d')"
   ]
  },
  {
   "cell_type": "code",
   "execution_count": 245,
   "metadata": {},
   "outputs": [],
   "source": [
    "frame_SO2.to_csv('/Users/dinawagdy/Documents/NYU CUSP/Semesters/Spring 2021/Applied Data Science/Project/EPA files/so2/EPA_SO2_cleaned.csv')"
   ]
  },
  {
   "cell_type": "code",
   "execution_count": 9,
   "metadata": {},
   "outputs": [],
   "source": [
    "#if you want to read the cleaned version\n",
    "path = '/Users/dinawagdy/Documents/NYU CUSP/Semesters/Spring 2021/Applied Data Science/Project/EPA files/so2/'\n",
    "frame_SO2 = pd.read_csv(path+'EPA_SO2_cleaned.csv')"
   ]
  },
  {
   "cell_type": "markdown",
   "metadata": {},
   "source": [
    "## Ozone"
   ]
  },
  {
   "cell_type": "markdown",
   "metadata": {},
   "source": [
    "Cleaned version of this dataset is saved on github as EPA_O3_Cleaned"
   ]
  },
  {
   "cell_type": "code",
   "execution_count": 84,
   "metadata": {},
   "outputs": [],
   "source": [
    "# use your path\n",
    "frame_O3 = read_files('/Users/dinawagdy/Documents/NYU CUSP/Semesters/Spring 2021/Applied Data Science/Project/EPA files/ozone daily')"
   ]
  },
  {
   "cell_type": "code",
   "execution_count": 86,
   "metadata": {},
   "outputs": [
    {
     "data": {
      "text/plain": [
       "(3782760, 29)"
      ]
     },
     "execution_count": 86,
     "metadata": {},
     "output_type": "execute_result"
    }
   ],
   "source": [
    "frame_O3.shape"
   ]
  },
  {
   "cell_type": "code",
   "execution_count": 87,
   "metadata": {},
   "outputs": [
    {
     "name": "stdout",
     "output_type": "stream",
     "text": [
      "There are 6 sites measuring O3 in NYC, which are located in: ['Bronx' 'New York' 'Queens' 'Richmond']\n"
     ]
    }
   ],
   "source": [
    "frame_O3 = frame_O3.loc[frame_O3['City Name']=='New York']\n",
    "print('There are',len(frame_O3['Site Num'].unique()),'sites measuring O3 in NYC, which are located in:',\\\n",
    "      frame_O3['County Name'].unique())"
   ]
  },
  {
   "cell_type": "code",
   "execution_count": 88,
   "metadata": {},
   "outputs": [
    {
     "data": {
      "text/plain": [
       "(16138, 29)"
      ]
     },
     "execution_count": 88,
     "metadata": {},
     "output_type": "execute_result"
    }
   ],
   "source": [
    "frame_O3.shape"
   ]
  },
  {
   "cell_type": "code",
   "execution_count": 91,
   "metadata": {},
   "outputs": [
    {
     "data": {
      "text/plain": [
       "Index(['State Code', 'County Code', 'Site Num', 'Parameter Code', 'POC',\n",
       "       'Latitude', 'Longitude', 'Datum', 'Parameter Name', 'Sample Duration',\n",
       "       'Pollutant Standard', 'Date Local', 'Units of Measure', 'Event Type',\n",
       "       'Observation Count', 'Observation Percent', 'Arithmetic Mean',\n",
       "       '1st Max Value', '1st Max Hour', 'AQI', 'Method Code', 'Method Name',\n",
       "       'Local Site Name', 'Address', 'State Name', 'County Name', 'City Name',\n",
       "       'CBSA Name', 'Date of Last Change'],\n",
       "      dtype='object')"
      ]
     },
     "execution_count": 91,
     "metadata": {},
     "output_type": "execute_result"
    }
   ],
   "source": [
    "frame_O3.columns"
   ]
  },
  {
   "cell_type": "code",
   "execution_count": 92,
   "metadata": {},
   "outputs": [],
   "source": [
    "frame_O3 = frame_O3[['County Code','Site Num','Parameter Code','Latitude', 'Longitude', 'Datum',\n",
    "                       'Parameter Name', 'Sample Duration','Date Local', 'Units of Measure',\n",
    "                       'Observation Count', 'Observation Percent','Arithmetic Mean','1st Max Value',\n",
    "                       '1st Max Hour', 'AQI','Local Site Name', 'Address','County Name']]"
   ]
  },
  {
   "cell_type": "code",
   "execution_count": 248,
   "metadata": {},
   "outputs": [
    {
     "data": {
      "text/html": [
       "<div>\n",
       "<style scoped>\n",
       "    .dataframe tbody tr th:only-of-type {\n",
       "        vertical-align: middle;\n",
       "    }\n",
       "\n",
       "    .dataframe tbody tr th {\n",
       "        vertical-align: top;\n",
       "    }\n",
       "\n",
       "    .dataframe thead th {\n",
       "        text-align: right;\n",
       "    }\n",
       "</style>\n",
       "<table border=\"1\" class=\"dataframe\">\n",
       "  <thead>\n",
       "    <tr style=\"text-align: right;\">\n",
       "      <th></th>\n",
       "      <th>County Code</th>\n",
       "      <th>Site Num</th>\n",
       "      <th>Parameter Code</th>\n",
       "      <th>Latitude</th>\n",
       "      <th>Longitude</th>\n",
       "      <th>Datum</th>\n",
       "      <th>Parameter Name</th>\n",
       "      <th>Sample Duration</th>\n",
       "      <th>Date Local</th>\n",
       "      <th>Units of Measure</th>\n",
       "      <th>Observation Count</th>\n",
       "      <th>Observation Percent</th>\n",
       "      <th>Arithmetic Mean</th>\n",
       "      <th>1st Max Value</th>\n",
       "      <th>1st Max Hour</th>\n",
       "      <th>AQI</th>\n",
       "      <th>Local Site Name</th>\n",
       "      <th>Address</th>\n",
       "      <th>County Name</th>\n",
       "    </tr>\n",
       "  </thead>\n",
       "  <tbody>\n",
       "    <tr>\n",
       "      <th>0</th>\n",
       "      <td>5</td>\n",
       "      <td>133</td>\n",
       "      <td>44201</td>\n",
       "      <td>40.86790</td>\n",
       "      <td>-73.87809</td>\n",
       "      <td>WGS84</td>\n",
       "      <td>Ozone</td>\n",
       "      <td>8-HR RUN AVG BEGIN HOUR</td>\n",
       "      <td>2011-01-01</td>\n",
       "      <td>Parts per million</td>\n",
       "      <td>17</td>\n",
       "      <td>100.0</td>\n",
       "      <td>0.002529</td>\n",
       "      <td>0.005</td>\n",
       "      <td>7</td>\n",
       "      <td>5</td>\n",
       "      <td>PFIZER LAB SITE</td>\n",
       "      <td>200TH STREET AND SOUTHERN BOULDVARD Pfizer Lab</td>\n",
       "      <td>Bronx</td>\n",
       "    </tr>\n",
       "    <tr>\n",
       "      <th>1</th>\n",
       "      <td>81</td>\n",
       "      <td>124</td>\n",
       "      <td>44201</td>\n",
       "      <td>40.73614</td>\n",
       "      <td>-73.82153</td>\n",
       "      <td>WGS84</td>\n",
       "      <td>Ozone</td>\n",
       "      <td>8-HR RUN AVG BEGIN HOUR</td>\n",
       "      <td>2011-01-01</td>\n",
       "      <td>Parts per million</td>\n",
       "      <td>17</td>\n",
       "      <td>100.0</td>\n",
       "      <td>0.004471</td>\n",
       "      <td>0.011</td>\n",
       "      <td>9</td>\n",
       "      <td>10</td>\n",
       "      <td>QUEENS COLLEGE 2</td>\n",
       "      <td>Queens College   65-30 Kissena Blvd  Parking L...</td>\n",
       "      <td>Queens</td>\n",
       "    </tr>\n",
       "    <tr>\n",
       "      <th>2</th>\n",
       "      <td>61</td>\n",
       "      <td>135</td>\n",
       "      <td>44201</td>\n",
       "      <td>40.81976</td>\n",
       "      <td>-73.94825</td>\n",
       "      <td>WGS84</td>\n",
       "      <td>Ozone</td>\n",
       "      <td>8-HR RUN AVG BEGIN HOUR</td>\n",
       "      <td>2011-01-01</td>\n",
       "      <td>Parts per million</td>\n",
       "      <td>17</td>\n",
       "      <td>100.0</td>\n",
       "      <td>0.003059</td>\n",
       "      <td>0.005</td>\n",
       "      <td>7</td>\n",
       "      <td>5</td>\n",
       "      <td>CCNY</td>\n",
       "      <td>160 CONVENT AVENUE</td>\n",
       "      <td>New York</td>\n",
       "    </tr>\n",
       "    <tr>\n",
       "      <th>3</th>\n",
       "      <td>85</td>\n",
       "      <td>67</td>\n",
       "      <td>44201</td>\n",
       "      <td>40.59664</td>\n",
       "      <td>-74.12525</td>\n",
       "      <td>WGS84</td>\n",
       "      <td>Ozone</td>\n",
       "      <td>8-HR RUN AVG BEGIN HOUR</td>\n",
       "      <td>2011-01-01</td>\n",
       "      <td>Parts per million</td>\n",
       "      <td>17</td>\n",
       "      <td>100.0</td>\n",
       "      <td>0.029529</td>\n",
       "      <td>0.033</td>\n",
       "      <td>16</td>\n",
       "      <td>31</td>\n",
       "      <td>SUSAN WAGNER HS</td>\n",
       "      <td>SUSAN WAGNER HS,   1200 MANOR RD, near Brielle...</td>\n",
       "      <td>Richmond</td>\n",
       "    </tr>\n",
       "    <tr>\n",
       "      <th>4</th>\n",
       "      <td>5</td>\n",
       "      <td>133</td>\n",
       "      <td>44201</td>\n",
       "      <td>40.86790</td>\n",
       "      <td>-73.87809</td>\n",
       "      <td>WGS84</td>\n",
       "      <td>Ozone</td>\n",
       "      <td>8-HR RUN AVG BEGIN HOUR</td>\n",
       "      <td>2011-01-02</td>\n",
       "      <td>Parts per million</td>\n",
       "      <td>17</td>\n",
       "      <td>100.0</td>\n",
       "      <td>0.010824</td>\n",
       "      <td>0.022</td>\n",
       "      <td>22</td>\n",
       "      <td>20</td>\n",
       "      <td>PFIZER LAB SITE</td>\n",
       "      <td>200TH STREET AND SOUTHERN BOULDVARD Pfizer Lab</td>\n",
       "      <td>Bronx</td>\n",
       "    </tr>\n",
       "  </tbody>\n",
       "</table>\n",
       "</div>"
      ],
      "text/plain": [
       "   County Code  Site Num  Parameter Code  Latitude  Longitude  Datum  \\\n",
       "0            5       133           44201  40.86790  -73.87809  WGS84   \n",
       "1           81       124           44201  40.73614  -73.82153  WGS84   \n",
       "2           61       135           44201  40.81976  -73.94825  WGS84   \n",
       "3           85        67           44201  40.59664  -74.12525  WGS84   \n",
       "4            5       133           44201  40.86790  -73.87809  WGS84   \n",
       "\n",
       "  Parameter Name          Sample Duration Date Local   Units of Measure  \\\n",
       "0          Ozone  8-HR RUN AVG BEGIN HOUR 2011-01-01  Parts per million   \n",
       "1          Ozone  8-HR RUN AVG BEGIN HOUR 2011-01-01  Parts per million   \n",
       "2          Ozone  8-HR RUN AVG BEGIN HOUR 2011-01-01  Parts per million   \n",
       "3          Ozone  8-HR RUN AVG BEGIN HOUR 2011-01-01  Parts per million   \n",
       "4          Ozone  8-HR RUN AVG BEGIN HOUR 2011-01-02  Parts per million   \n",
       "\n",
       "   Observation Count  Observation Percent  Arithmetic Mean  1st Max Value  \\\n",
       "0                 17                100.0         0.002529          0.005   \n",
       "1                 17                100.0         0.004471          0.011   \n",
       "2                 17                100.0         0.003059          0.005   \n",
       "3                 17                100.0         0.029529          0.033   \n",
       "4                 17                100.0         0.010824          0.022   \n",
       "\n",
       "   1st Max Hour  AQI   Local Site Name  \\\n",
       "0             7    5   PFIZER LAB SITE   \n",
       "1             9   10  QUEENS COLLEGE 2   \n",
       "2             7    5              CCNY   \n",
       "3            16   31   SUSAN WAGNER HS   \n",
       "4            22   20   PFIZER LAB SITE   \n",
       "\n",
       "                                             Address County Name  \n",
       "0     200TH STREET AND SOUTHERN BOULDVARD Pfizer Lab       Bronx  \n",
       "1  Queens College   65-30 Kissena Blvd  Parking L...      Queens  \n",
       "2                                 160 CONVENT AVENUE    New York  \n",
       "3  SUSAN WAGNER HS,   1200 MANOR RD, near Brielle...    Richmond  \n",
       "4     200TH STREET AND SOUTHERN BOULDVARD Pfizer Lab       Bronx  "
      ]
     },
     "execution_count": 248,
     "metadata": {},
     "output_type": "execute_result"
    }
   ],
   "source": [
    "frame_O3.head()"
   ]
  },
  {
   "cell_type": "code",
   "execution_count": 93,
   "metadata": {},
   "outputs": [
    {
     "data": {
      "text/html": [
       "<div>\n",
       "<style scoped>\n",
       "    .dataframe tbody tr th:only-of-type {\n",
       "        vertical-align: middle;\n",
       "    }\n",
       "\n",
       "    .dataframe tbody tr th {\n",
       "        vertical-align: top;\n",
       "    }\n",
       "\n",
       "    .dataframe thead th {\n",
       "        text-align: right;\n",
       "    }\n",
       "</style>\n",
       "<table border=\"1\" class=\"dataframe\">\n",
       "  <thead>\n",
       "    <tr style=\"text-align: right;\">\n",
       "      <th></th>\n",
       "      <th>County Code</th>\n",
       "      <th>Site Num</th>\n",
       "      <th>Parameter Code</th>\n",
       "      <th>Latitude</th>\n",
       "      <th>Longitude</th>\n",
       "      <th>Observation Count</th>\n",
       "      <th>Observation Percent</th>\n",
       "      <th>Arithmetic Mean</th>\n",
       "      <th>1st Max Value</th>\n",
       "      <th>1st Max Hour</th>\n",
       "      <th>AQI</th>\n",
       "    </tr>\n",
       "  </thead>\n",
       "  <tbody>\n",
       "    <tr>\n",
       "      <th>count</th>\n",
       "      <td>16138.000000</td>\n",
       "      <td>16138.000000</td>\n",
       "      <td>16138.0</td>\n",
       "      <td>16138.000000</td>\n",
       "      <td>16138.000000</td>\n",
       "      <td>16138.000000</td>\n",
       "      <td>16138.000000</td>\n",
       "      <td>16138.000000</td>\n",
       "      <td>16138.000000</td>\n",
       "      <td>16138.000000</td>\n",
       "      <td>16138.000000</td>\n",
       "    </tr>\n",
       "    <tr>\n",
       "      <th>mean</th>\n",
       "      <td>47.160119</td>\n",
       "      <td>117.897881</td>\n",
       "      <td>44201.0</td>\n",
       "      <td>40.772699</td>\n",
       "      <td>-73.929898</td>\n",
       "      <td>16.743401</td>\n",
       "      <td>98.487483</td>\n",
       "      <td>0.026454</td>\n",
       "      <td>0.034875</td>\n",
       "      <td>11.156587</td>\n",
       "      <td>34.121143</td>\n",
       "    </tr>\n",
       "    <tr>\n",
       "      <th>std</th>\n",
       "      <td>35.240811</td>\n",
       "      <td>21.591803</td>\n",
       "      <td>0.0</td>\n",
       "      <td>0.092568</td>\n",
       "      <td>0.105939</td>\n",
       "      <td>1.266557</td>\n",
       "      <td>7.444209</td>\n",
       "      <td>0.011827</td>\n",
       "      <td>0.014287</td>\n",
       "      <td>4.086165</td>\n",
       "      <td>18.736921</td>\n",
       "    </tr>\n",
       "    <tr>\n",
       "      <th>min</th>\n",
       "      <td>5.000000</td>\n",
       "      <td>67.000000</td>\n",
       "      <td>44201.0</td>\n",
       "      <td>40.580270</td>\n",
       "      <td>-74.198320</td>\n",
       "      <td>1.000000</td>\n",
       "      <td>6.000000</td>\n",
       "      <td>0.000000</td>\n",
       "      <td>0.000000</td>\n",
       "      <td>7.000000</td>\n",
       "      <td>0.000000</td>\n",
       "    </tr>\n",
       "    <tr>\n",
       "      <th>25%</th>\n",
       "      <td>5.000000</td>\n",
       "      <td>110.000000</td>\n",
       "      <td>44201.0</td>\n",
       "      <td>40.736140</td>\n",
       "      <td>-73.948250</td>\n",
       "      <td>17.000000</td>\n",
       "      <td>100.000000</td>\n",
       "      <td>0.018000</td>\n",
       "      <td>0.025000</td>\n",
       "      <td>9.000000</td>\n",
       "      <td>23.000000</td>\n",
       "    </tr>\n",
       "    <tr>\n",
       "      <th>50%</th>\n",
       "      <td>61.000000</td>\n",
       "      <td>124.000000</td>\n",
       "      <td>44201.0</td>\n",
       "      <td>40.816000</td>\n",
       "      <td>-73.902000</td>\n",
       "      <td>17.000000</td>\n",
       "      <td>100.000000</td>\n",
       "      <td>0.026176</td>\n",
       "      <td>0.033000</td>\n",
       "      <td>10.000000</td>\n",
       "      <td>31.000000</td>\n",
       "    </tr>\n",
       "    <tr>\n",
       "      <th>75%</th>\n",
       "      <td>81.000000</td>\n",
       "      <td>133.000000</td>\n",
       "      <td>44201.0</td>\n",
       "      <td>40.819760</td>\n",
       "      <td>-73.878090</td>\n",
       "      <td>17.000000</td>\n",
       "      <td>100.000000</td>\n",
       "      <td>0.034294</td>\n",
       "      <td>0.043000</td>\n",
       "      <td>11.000000</td>\n",
       "      <td>40.000000</td>\n",
       "    </tr>\n",
       "    <tr>\n",
       "      <th>max</th>\n",
       "      <td>85.000000</td>\n",
       "      <td>135.000000</td>\n",
       "      <td>44201.0</td>\n",
       "      <td>40.867900</td>\n",
       "      <td>-73.821530</td>\n",
       "      <td>17.000000</td>\n",
       "      <td>100.000000</td>\n",
       "      <td>0.071353</td>\n",
       "      <td>0.100000</td>\n",
       "      <td>23.000000</td>\n",
       "      <td>187.000000</td>\n",
       "    </tr>\n",
       "  </tbody>\n",
       "</table>\n",
       "</div>"
      ],
      "text/plain": [
       "        County Code      Site Num  Parameter Code      Latitude     Longitude  \\\n",
       "count  16138.000000  16138.000000         16138.0  16138.000000  16138.000000   \n",
       "mean      47.160119    117.897881         44201.0     40.772699    -73.929898   \n",
       "std       35.240811     21.591803             0.0      0.092568      0.105939   \n",
       "min        5.000000     67.000000         44201.0     40.580270    -74.198320   \n",
       "25%        5.000000    110.000000         44201.0     40.736140    -73.948250   \n",
       "50%       61.000000    124.000000         44201.0     40.816000    -73.902000   \n",
       "75%       81.000000    133.000000         44201.0     40.819760    -73.878090   \n",
       "max       85.000000    135.000000         44201.0     40.867900    -73.821530   \n",
       "\n",
       "       Observation Count  Observation Percent  Arithmetic Mean  1st Max Value  \\\n",
       "count       16138.000000         16138.000000     16138.000000   16138.000000   \n",
       "mean           16.743401            98.487483         0.026454       0.034875   \n",
       "std             1.266557             7.444209         0.011827       0.014287   \n",
       "min             1.000000             6.000000         0.000000       0.000000   \n",
       "25%            17.000000           100.000000         0.018000       0.025000   \n",
       "50%            17.000000           100.000000         0.026176       0.033000   \n",
       "75%            17.000000           100.000000         0.034294       0.043000   \n",
       "max            17.000000           100.000000         0.071353       0.100000   \n",
       "\n",
       "       1st Max Hour           AQI  \n",
       "count  16138.000000  16138.000000  \n",
       "mean      11.156587     34.121143  \n",
       "std        4.086165     18.736921  \n",
       "min        7.000000      0.000000  \n",
       "25%        9.000000     23.000000  \n",
       "50%       10.000000     31.000000  \n",
       "75%       11.000000     40.000000  \n",
       "max       23.000000    187.000000  "
      ]
     },
     "execution_count": 93,
     "metadata": {},
     "output_type": "execute_result"
    }
   ],
   "source": [
    "frame_O3.describe() #values seem reasonable"
   ]
  },
  {
   "cell_type": "code",
   "execution_count": 231,
   "metadata": {},
   "outputs": [],
   "source": [
    "frame_O3 = frame_O3.sort_values(by='Date Local').reset_index(drop = True)"
   ]
  },
  {
   "cell_type": "code",
   "execution_count": 246,
   "metadata": {},
   "outputs": [],
   "source": [
    "frame_O3['Date Local'] =  pd.to_datetime(frame_O3['Date Local'], format='%Y-%m-%d')"
   ]
  },
  {
   "cell_type": "code",
   "execution_count": 247,
   "metadata": {},
   "outputs": [],
   "source": [
    "frame_O3.to_csv('/Users/dinawagdy/Documents/NYU CUSP/Semesters/Spring 2021/Applied Data Science/Project/EPA files/ozone daily/EPA_O3_cleaned.csv')"
   ]
  },
  {
   "cell_type": "code",
   "execution_count": 11,
   "metadata": {},
   "outputs": [],
   "source": [
    "#if you want to read the cleaned version\n",
    "path = '/Users/dinawagdy/Documents/NYU CUSP/Semesters/Spring 2021/Applied Data Science/Project/EPA files/ozone daily/'\n",
    "frame_O3 = pd.read_csv(path+'EPA_O3_cleaned.csv')"
   ]
  },
  {
   "cell_type": "markdown",
   "metadata": {},
   "source": [
    "## PM2.5"
   ]
  },
  {
   "cell_type": "markdown",
   "metadata": {},
   "source": [
    "Cleaned version of this dataset is saved on github as EPA_PM_Cleaned"
   ]
  },
  {
   "cell_type": "code",
   "execution_count": 103,
   "metadata": {},
   "outputs": [],
   "source": [
    "frame_PM = read_files('/Users/dinawagdy/Documents/NYU CUSP/Semesters/Spring 2021/Applied Data Science/Project/EPA files/PM')"
   ]
  },
  {
   "cell_type": "code",
   "execution_count": 104,
   "metadata": {},
   "outputs": [
    {
     "data": {
      "text/plain": [
       "(3812122, 29)"
      ]
     },
     "execution_count": 104,
     "metadata": {},
     "output_type": "execute_result"
    }
   ],
   "source": [
    "frame_PM.shape"
   ]
  },
  {
   "cell_type": "code",
   "execution_count": 105,
   "metadata": {},
   "outputs": [
    {
     "name": "stdout",
     "output_type": "stream",
     "text": [
      "There are 11 sites measuring PM2.5 in NYC, which are located in: ['Bronx' 'Kings' 'New York' 'Queens' 'Richmond']\n"
     ]
    }
   ],
   "source": [
    "frame_PM = frame_PM.loc[frame_PM['City Name']=='New York']\n",
    "print('There are',len(frame_PM['Site Num'].unique()),'sites measuring PM2.5 in NYC, which are located in:',\\\n",
    "      frame_PM['County Name'].unique())"
   ]
  },
  {
   "cell_type": "code",
   "execution_count": 106,
   "metadata": {},
   "outputs": [
    {
     "data": {
      "text/plain": [
       "Index(['State Code', 'County Code', 'Site Num', 'Parameter Code', 'POC',\n",
       "       'Latitude', 'Longitude', 'Datum', 'Parameter Name', 'Sample Duration',\n",
       "       'Pollutant Standard', 'Date Local', 'Units of Measure', 'Event Type',\n",
       "       'Observation Count', 'Observation Percent', 'Arithmetic Mean',\n",
       "       '1st Max Value', '1st Max Hour', 'AQI', 'Method Code', 'Method Name',\n",
       "       'Local Site Name', 'Address', 'State Name', 'County Name', 'City Name',\n",
       "       'CBSA Name', 'Date of Last Change'],\n",
       "      dtype='object')"
      ]
     },
     "execution_count": 106,
     "metadata": {},
     "output_type": "execute_result"
    }
   ],
   "source": [
    "frame_PM.columns"
   ]
  },
  {
   "cell_type": "code",
   "execution_count": 107,
   "metadata": {},
   "outputs": [],
   "source": [
    "frame_PM = frame_PM[['County Code','Site Num','Parameter Code','Latitude', 'Longitude', 'Datum',\n",
    "                       'Parameter Name', 'Sample Duration','Date Local', 'Units of Measure',\n",
    "                       'Observation Count', 'Observation Percent','Arithmetic Mean','1st Max Value',\n",
    "                       '1st Max Hour', 'AQI','Local Site Name', 'Address','County Name']]"
   ]
  },
  {
   "cell_type": "code",
   "execution_count": 108,
   "metadata": {},
   "outputs": [
    {
     "data": {
      "text/html": [
       "<div>\n",
       "<style scoped>\n",
       "    .dataframe tbody tr th:only-of-type {\n",
       "        vertical-align: middle;\n",
       "    }\n",
       "\n",
       "    .dataframe tbody tr th {\n",
       "        vertical-align: top;\n",
       "    }\n",
       "\n",
       "    .dataframe thead th {\n",
       "        text-align: right;\n",
       "    }\n",
       "</style>\n",
       "<table border=\"1\" class=\"dataframe\">\n",
       "  <thead>\n",
       "    <tr style=\"text-align: right;\">\n",
       "      <th></th>\n",
       "      <th>County Code</th>\n",
       "      <th>Site Num</th>\n",
       "      <th>Parameter Code</th>\n",
       "      <th>Latitude</th>\n",
       "      <th>Longitude</th>\n",
       "      <th>Datum</th>\n",
       "      <th>Parameter Name</th>\n",
       "      <th>Sample Duration</th>\n",
       "      <th>Date Local</th>\n",
       "      <th>Units of Measure</th>\n",
       "      <th>Observation Count</th>\n",
       "      <th>Observation Percent</th>\n",
       "      <th>Arithmetic Mean</th>\n",
       "      <th>1st Max Value</th>\n",
       "      <th>1st Max Hour</th>\n",
       "      <th>AQI</th>\n",
       "      <th>Local Site Name</th>\n",
       "      <th>Address</th>\n",
       "      <th>County Name</th>\n",
       "    </tr>\n",
       "  </thead>\n",
       "  <tbody>\n",
       "    <tr>\n",
       "      <th>327693</th>\n",
       "      <td>5</td>\n",
       "      <td>110</td>\n",
       "      <td>88101</td>\n",
       "      <td>40.816</td>\n",
       "      <td>-73.902</td>\n",
       "      <td>WGS84</td>\n",
       "      <td>PM2.5 - Local Conditions</td>\n",
       "      <td>24 HOUR</td>\n",
       "      <td>2019-01-09</td>\n",
       "      <td>Micrograms/cubic meter (LC)</td>\n",
       "      <td>1</td>\n",
       "      <td>100.0</td>\n",
       "      <td>3.3</td>\n",
       "      <td>3.3</td>\n",
       "      <td>0</td>\n",
       "      <td>14.0</td>\n",
       "      <td>IS 52</td>\n",
       "      <td>IS 52    681 KELLY ST</td>\n",
       "      <td>Bronx</td>\n",
       "    </tr>\n",
       "    <tr>\n",
       "      <th>327694</th>\n",
       "      <td>5</td>\n",
       "      <td>110</td>\n",
       "      <td>88101</td>\n",
       "      <td>40.816</td>\n",
       "      <td>-73.902</td>\n",
       "      <td>WGS84</td>\n",
       "      <td>PM2.5 - Local Conditions</td>\n",
       "      <td>24 HOUR</td>\n",
       "      <td>2019-01-12</td>\n",
       "      <td>Micrograms/cubic meter (LC)</td>\n",
       "      <td>1</td>\n",
       "      <td>100.0</td>\n",
       "      <td>4.0</td>\n",
       "      <td>4.0</td>\n",
       "      <td>0</td>\n",
       "      <td>17.0</td>\n",
       "      <td>IS 52</td>\n",
       "      <td>IS 52    681 KELLY ST</td>\n",
       "      <td>Bronx</td>\n",
       "    </tr>\n",
       "    <tr>\n",
       "      <th>327695</th>\n",
       "      <td>5</td>\n",
       "      <td>110</td>\n",
       "      <td>88101</td>\n",
       "      <td>40.816</td>\n",
       "      <td>-73.902</td>\n",
       "      <td>WGS84</td>\n",
       "      <td>PM2.5 - Local Conditions</td>\n",
       "      <td>24 HOUR</td>\n",
       "      <td>2019-01-15</td>\n",
       "      <td>Micrograms/cubic meter (LC)</td>\n",
       "      <td>1</td>\n",
       "      <td>100.0</td>\n",
       "      <td>13.2</td>\n",
       "      <td>13.2</td>\n",
       "      <td>0</td>\n",
       "      <td>53.0</td>\n",
       "      <td>IS 52</td>\n",
       "      <td>IS 52    681 KELLY ST</td>\n",
       "      <td>Bronx</td>\n",
       "    </tr>\n",
       "    <tr>\n",
       "      <th>327696</th>\n",
       "      <td>5</td>\n",
       "      <td>110</td>\n",
       "      <td>88101</td>\n",
       "      <td>40.816</td>\n",
       "      <td>-73.902</td>\n",
       "      <td>WGS84</td>\n",
       "      <td>PM2.5 - Local Conditions</td>\n",
       "      <td>24 HOUR</td>\n",
       "      <td>2019-01-18</td>\n",
       "      <td>Micrograms/cubic meter (LC)</td>\n",
       "      <td>1</td>\n",
       "      <td>100.0</td>\n",
       "      <td>14.1</td>\n",
       "      <td>14.1</td>\n",
       "      <td>0</td>\n",
       "      <td>55.0</td>\n",
       "      <td>IS 52</td>\n",
       "      <td>IS 52    681 KELLY ST</td>\n",
       "      <td>Bronx</td>\n",
       "    </tr>\n",
       "    <tr>\n",
       "      <th>327697</th>\n",
       "      <td>5</td>\n",
       "      <td>110</td>\n",
       "      <td>88101</td>\n",
       "      <td>40.816</td>\n",
       "      <td>-73.902</td>\n",
       "      <td>WGS84</td>\n",
       "      <td>PM2.5 - Local Conditions</td>\n",
       "      <td>24 HOUR</td>\n",
       "      <td>2019-01-21</td>\n",
       "      <td>Micrograms/cubic meter (LC)</td>\n",
       "      <td>1</td>\n",
       "      <td>100.0</td>\n",
       "      <td>3.0</td>\n",
       "      <td>3.0</td>\n",
       "      <td>0</td>\n",
       "      <td>13.0</td>\n",
       "      <td>IS 52</td>\n",
       "      <td>IS 52    681 KELLY ST</td>\n",
       "      <td>Bronx</td>\n",
       "    </tr>\n",
       "  </tbody>\n",
       "</table>\n",
       "</div>"
      ],
      "text/plain": [
       "        County Code  Site Num  Parameter Code  Latitude  Longitude  Datum  \\\n",
       "327693            5       110           88101    40.816    -73.902  WGS84   \n",
       "327694            5       110           88101    40.816    -73.902  WGS84   \n",
       "327695            5       110           88101    40.816    -73.902  WGS84   \n",
       "327696            5       110           88101    40.816    -73.902  WGS84   \n",
       "327697            5       110           88101    40.816    -73.902  WGS84   \n",
       "\n",
       "                  Parameter Name Sample Duration  Date Local  \\\n",
       "327693  PM2.5 - Local Conditions         24 HOUR  2019-01-09   \n",
       "327694  PM2.5 - Local Conditions         24 HOUR  2019-01-12   \n",
       "327695  PM2.5 - Local Conditions         24 HOUR  2019-01-15   \n",
       "327696  PM2.5 - Local Conditions         24 HOUR  2019-01-18   \n",
       "327697  PM2.5 - Local Conditions         24 HOUR  2019-01-21   \n",
       "\n",
       "                   Units of Measure  Observation Count  Observation Percent  \\\n",
       "327693  Micrograms/cubic meter (LC)                  1                100.0   \n",
       "327694  Micrograms/cubic meter (LC)                  1                100.0   \n",
       "327695  Micrograms/cubic meter (LC)                  1                100.0   \n",
       "327696  Micrograms/cubic meter (LC)                  1                100.0   \n",
       "327697  Micrograms/cubic meter (LC)                  1                100.0   \n",
       "\n",
       "        Arithmetic Mean  1st Max Value  1st Max Hour   AQI Local Site Name  \\\n",
       "327693              3.3            3.3             0  14.0           IS 52   \n",
       "327694              4.0            4.0             0  17.0           IS 52   \n",
       "327695             13.2           13.2             0  53.0           IS 52   \n",
       "327696             14.1           14.1             0  55.0           IS 52   \n",
       "327697              3.0            3.0             0  13.0           IS 52   \n",
       "\n",
       "                      Address County Name  \n",
       "327693  IS 52    681 KELLY ST       Bronx  \n",
       "327694  IS 52    681 KELLY ST       Bronx  \n",
       "327695  IS 52    681 KELLY ST       Bronx  \n",
       "327696  IS 52    681 KELLY ST       Bronx  \n",
       "327697  IS 52    681 KELLY ST       Bronx  "
      ]
     },
     "execution_count": 108,
     "metadata": {},
     "output_type": "execute_result"
    }
   ],
   "source": [
    "frame_PM.head()"
   ]
  },
  {
   "cell_type": "markdown",
   "metadata": {},
   "source": [
    "frame_PM.describe() #seem reasonable"
   ]
  },
  {
   "cell_type": "code",
   "execution_count": 110,
   "metadata": {},
   "outputs": [
    {
     "data": {
      "text/plain": [
       "(20844, 19)"
      ]
     },
     "execution_count": 110,
     "metadata": {},
     "output_type": "execute_result"
    }
   ],
   "source": [
    "frame_PM.shape"
   ]
  },
  {
   "cell_type": "code",
   "execution_count": 229,
   "metadata": {},
   "outputs": [],
   "source": [
    "frame_PM = frame_PM.sort_values(by='Date Local').reset_index(drop = True)"
   ]
  },
  {
   "cell_type": "code",
   "execution_count": 249,
   "metadata": {},
   "outputs": [],
   "source": [
    "frame_PM['Date Local'] =  pd.to_datetime(frame_PM['Date Local'], format='%Y-%m-%d')"
   ]
  },
  {
   "cell_type": "code",
   "execution_count": 250,
   "metadata": {},
   "outputs": [],
   "source": [
    "frame_PM.to_csv('/Users/dinawagdy/Documents/NYU CUSP/Semesters/Spring 2021/Applied Data Science/Project/EPA files/PM/EPA_PM_cleaned.csv')"
   ]
  },
  {
   "cell_type": "code",
   "execution_count": 12,
   "metadata": {},
   "outputs": [],
   "source": [
    "#if you want to read the cleaned version\n",
    "path = '/Users/dinawagdy/Documents/NYU CUSP/Semesters/Spring 2021/Applied Data Science/Project/EPA files/PM/'\n",
    "\n",
    "frame_PM = pd.read_csv(path+'EPA_PM_cleaned.csv')"
   ]
  },
  {
   "cell_type": "markdown",
   "metadata": {},
   "source": [
    "## Site & Monitors"
   ]
  },
  {
   "cell_type": "markdown",
   "metadata": {},
   "source": [
    "### Sites"
   ]
  },
  {
   "cell_type": "markdown",
   "metadata": {},
   "source": [
    "Some useful information: A site number is unique number within the county identifying the site.\n",
    "This is a link to the data description if needed: https://aqs.epa.gov/aqsweb/airdata/FileFormats.html"
   ]
  },
  {
   "cell_type": "code",
   "execution_count": 13,
   "metadata": {},
   "outputs": [],
   "source": [
    "path = '/Users/dinawagdy/Documents/NYU CUSP/Semesters/Spring 2021/Applied Data Science/Project/EPA files/' \n",
    "df_sites = pd.read_csv(path+'aqs_sites.csv')"
   ]
  },
  {
   "cell_type": "code",
   "execution_count": 14,
   "metadata": {},
   "outputs": [],
   "source": [
    "df_sites = df_sites[df_sites['City Name']=='New York']"
   ]
  },
  {
   "cell_type": "code",
   "execution_count": 15,
   "metadata": {},
   "outputs": [],
   "source": [
    "sites_dict = {'NO2':list(frame_NO2['Site Num'].unique()),\n",
    "             'SO2': list(frame_SO2['Site Num'].unique()),\n",
    "             'O3': list(frame_O3['Site Num'].unique()),\n",
    "             'PM2.5': list(frame_PM['Site Num'].unique())}"
   ]
  },
  {
   "cell_type": "code",
   "execution_count": 16,
   "metadata": {},
   "outputs": [
    {
     "data": {
      "text/plain": [
       "{55, 67, 79, 80, 110, 111, 122, 124, 125, 128, 133, 134, 135}"
      ]
     },
     "execution_count": 16,
     "metadata": {},
     "output_type": "execute_result"
    }
   ],
   "source": [
    "sites_list = set([*frame_NO2['Site Num'].unique()]+[*frame_SO2['Site Num'].unique()]+\\\n",
    "            [*frame_O3['Site Num'].unique()]+[*frame_PM['Site Num'].unique()])\n",
    "sites_list"
   ]
  },
  {
   "cell_type": "code",
   "execution_count": 17,
   "metadata": {},
   "outputs": [],
   "source": [
    "df_sites = df_sites.loc[df_sites['Site Number'].isin(sites_list)]"
   ]
  },
  {
   "cell_type": "code",
   "execution_count": 18,
   "metadata": {},
   "outputs": [
    {
     "data": {
      "text/plain": [
       "Index(['State Code', 'County Code', 'Site Number', 'Latitude', 'Longitude',\n",
       "       'Datum', 'Elevation', 'Land Use', 'Location Setting',\n",
       "       'Site Established Date', 'Site Closed Date', 'Met Site State Code',\n",
       "       'Met Site County Code', 'Met Site Site Number', 'Met Site Type',\n",
       "       'Met Site Distance', 'Met Site Direction', 'GMT Offset',\n",
       "       'Owning Agency', 'Local Site Name', 'Address', 'Zip Code', 'State Name',\n",
       "       'County Name', 'City Name', 'CBSA Name', 'Tribe Name',\n",
       "       'Extraction Date'],\n",
       "      dtype='object')"
      ]
     },
     "execution_count": 18,
     "metadata": {},
     "output_type": "execute_result"
    }
   ],
   "source": [
    "df_sites.columns"
   ]
  },
  {
   "cell_type": "code",
   "execution_count": 19,
   "metadata": {},
   "outputs": [],
   "source": [
    "df_sites = df_sites[['State Code', 'County Code', 'Site Number', 'Latitude', 'Longitude',\n",
    "       'Datum', 'Elevation', 'Land Use', 'Location Setting','Owning Agency', 'Local Site Name', 'Address', 'Zip Code', 'State Name',\n",
    "       'County Name', 'City Name', 'CBSA Name', 'Tribe Name',\n",
    "       'Extraction Date']]"
   ]
  },
  {
   "cell_type": "code",
   "execution_count": 20,
   "metadata": {},
   "outputs": [
    {
     "data": {
      "text/html": [
       "<div>\n",
       "<style scoped>\n",
       "    .dataframe tbody tr th:only-of-type {\n",
       "        vertical-align: middle;\n",
       "    }\n",
       "\n",
       "    .dataframe tbody tr th {\n",
       "        vertical-align: top;\n",
       "    }\n",
       "\n",
       "    .dataframe thead th {\n",
       "        text-align: right;\n",
       "    }\n",
       "</style>\n",
       "<table border=\"1\" class=\"dataframe\">\n",
       "  <thead>\n",
       "    <tr style=\"text-align: right;\">\n",
       "      <th></th>\n",
       "      <th>State Code</th>\n",
       "      <th>County Code</th>\n",
       "      <th>Site Number</th>\n",
       "      <th>Latitude</th>\n",
       "      <th>Longitude</th>\n",
       "      <th>Datum</th>\n",
       "      <th>Elevation</th>\n",
       "      <th>Land Use</th>\n",
       "      <th>Location Setting</th>\n",
       "      <th>Owning Agency</th>\n",
       "      <th>Local Site Name</th>\n",
       "      <th>Address</th>\n",
       "      <th>Zip Code</th>\n",
       "      <th>State Name</th>\n",
       "      <th>County Name</th>\n",
       "      <th>City Name</th>\n",
       "      <th>CBSA Name</th>\n",
       "      <th>Tribe Name</th>\n",
       "      <th>Extraction Date</th>\n",
       "    </tr>\n",
       "  </thead>\n",
       "  <tbody>\n",
       "    <tr>\n",
       "      <th>11950</th>\n",
       "      <td>36</td>\n",
       "      <td>5</td>\n",
       "      <td>80</td>\n",
       "      <td>40.83606</td>\n",
       "      <td>-73.92009</td>\n",
       "      <td>WGS84</td>\n",
       "      <td>20.0</td>\n",
       "      <td>RESIDENTIAL</td>\n",
       "      <td>URBAN AND CENTER CITY</td>\n",
       "      <td>New York State Department Of Environmental Con...</td>\n",
       "      <td>MORRISANIA</td>\n",
       "      <td>MORRISANIA CENTER, 1225-57 GERARD AVE.</td>\n",
       "      <td>10452.0</td>\n",
       "      <td>New York</td>\n",
       "      <td>Bronx</td>\n",
       "      <td>New York</td>\n",
       "      <td>New York-Newark-Jersey City, NY-NJ-PA</td>\n",
       "      <td>NaN</td>\n",
       "      <td>2020-11-24</td>\n",
       "    </tr>\n",
       "    <tr>\n",
       "      <th>11952</th>\n",
       "      <td>36</td>\n",
       "      <td>5</td>\n",
       "      <td>110</td>\n",
       "      <td>40.81600</td>\n",
       "      <td>-73.90200</td>\n",
       "      <td>WGS84</td>\n",
       "      <td>17.0</td>\n",
       "      <td>RESIDENTIAL</td>\n",
       "      <td>URBAN AND CENTER CITY</td>\n",
       "      <td>New York State Department Of Environmental Con...</td>\n",
       "      <td>IS 52</td>\n",
       "      <td>IS 52    681 KELLY ST</td>\n",
       "      <td>10455.0</td>\n",
       "      <td>New York</td>\n",
       "      <td>Bronx</td>\n",
       "      <td>New York</td>\n",
       "      <td>New York-Newark-Jersey City, NY-NJ-PA</td>\n",
       "      <td>NaN</td>\n",
       "      <td>2020-11-24</td>\n",
       "    </tr>\n",
       "    <tr>\n",
       "      <th>11955</th>\n",
       "      <td>36</td>\n",
       "      <td>5</td>\n",
       "      <td>133</td>\n",
       "      <td>40.86790</td>\n",
       "      <td>-73.87809</td>\n",
       "      <td>WGS84</td>\n",
       "      <td>31.0</td>\n",
       "      <td>COMMERCIAL</td>\n",
       "      <td>URBAN AND CENTER CITY</td>\n",
       "      <td>New York State Department Of Environmental Con...</td>\n",
       "      <td>PFIZER LAB SITE</td>\n",
       "      <td>200TH STREET AND SOUTHERN BOULDVARD Pfizer Lab</td>\n",
       "      <td>10458.0</td>\n",
       "      <td>New York</td>\n",
       "      <td>Bronx</td>\n",
       "      <td>New York</td>\n",
       "      <td>New York-Newark-Jersey City, NY-NJ-PA</td>\n",
       "      <td>NaN</td>\n",
       "      <td>2020-11-24</td>\n",
       "    </tr>\n",
       "    <tr>\n",
       "      <th>12158</th>\n",
       "      <td>36</td>\n",
       "      <td>47</td>\n",
       "      <td>122</td>\n",
       "      <td>40.71961</td>\n",
       "      <td>-73.94771</td>\n",
       "      <td>WGS84</td>\n",
       "      <td>6.0</td>\n",
       "      <td>INDUSTRIAL</td>\n",
       "      <td>SUBURBAN</td>\n",
       "      <td>New York State Department Of Environmental Con...</td>\n",
       "      <td>JHS 126</td>\n",
       "      <td>JHS 126  424 LEONARD ST</td>\n",
       "      <td>11222.0</td>\n",
       "      <td>New York</td>\n",
       "      <td>Kings</td>\n",
       "      <td>New York</td>\n",
       "      <td>New York-Newark-Jersey City, NY-NJ-PA</td>\n",
       "      <td>NaN</td>\n",
       "      <td>2020-11-24</td>\n",
       "    </tr>\n",
       "    <tr>\n",
       "      <th>12273</th>\n",
       "      <td>36</td>\n",
       "      <td>61</td>\n",
       "      <td>79</td>\n",
       "      <td>40.79970</td>\n",
       "      <td>-73.93432</td>\n",
       "      <td>WGS84</td>\n",
       "      <td>3.0</td>\n",
       "      <td>RESIDENTIAL</td>\n",
       "      <td>URBAN AND CENTER CITY</td>\n",
       "      <td>New York State Department Of Environmental Con...</td>\n",
       "      <td>IS 45</td>\n",
       "      <td>SCHOOL IS 45, 2351 1ST AVENUE</td>\n",
       "      <td>10035.0</td>\n",
       "      <td>New York</td>\n",
       "      <td>New York</td>\n",
       "      <td>New York</td>\n",
       "      <td>New York-Newark-Jersey City, NY-NJ-PA</td>\n",
       "      <td>NaN</td>\n",
       "      <td>2020-11-24</td>\n",
       "    </tr>\n",
       "  </tbody>\n",
       "</table>\n",
       "</div>"
      ],
      "text/plain": [
       "      State Code  County Code  Site Number  Latitude  Longitude  Datum  \\\n",
       "11950         36            5           80  40.83606  -73.92009  WGS84   \n",
       "11952         36            5          110  40.81600  -73.90200  WGS84   \n",
       "11955         36            5          133  40.86790  -73.87809  WGS84   \n",
       "12158         36           47          122  40.71961  -73.94771  WGS84   \n",
       "12273         36           61           79  40.79970  -73.93432  WGS84   \n",
       "\n",
       "       Elevation     Land Use       Location Setting  \\\n",
       "11950       20.0  RESIDENTIAL  URBAN AND CENTER CITY   \n",
       "11952       17.0  RESIDENTIAL  URBAN AND CENTER CITY   \n",
       "11955       31.0   COMMERCIAL  URBAN AND CENTER CITY   \n",
       "12158        6.0   INDUSTRIAL               SUBURBAN   \n",
       "12273        3.0  RESIDENTIAL  URBAN AND CENTER CITY   \n",
       "\n",
       "                                           Owning Agency  Local Site Name  \\\n",
       "11950  New York State Department Of Environmental Con...       MORRISANIA   \n",
       "11952  New York State Department Of Environmental Con...            IS 52   \n",
       "11955  New York State Department Of Environmental Con...  PFIZER LAB SITE   \n",
       "12158  New York State Department Of Environmental Con...          JHS 126   \n",
       "12273  New York State Department Of Environmental Con...            IS 45   \n",
       "\n",
       "                                              Address  Zip Code State Name  \\\n",
       "11950          MORRISANIA CENTER, 1225-57 GERARD AVE.   10452.0   New York   \n",
       "11952                           IS 52    681 KELLY ST   10455.0   New York   \n",
       "11955  200TH STREET AND SOUTHERN BOULDVARD Pfizer Lab   10458.0   New York   \n",
       "12158                         JHS 126  424 LEONARD ST   11222.0   New York   \n",
       "12273                   SCHOOL IS 45, 2351 1ST AVENUE   10035.0   New York   \n",
       "\n",
       "      County Name City Name                              CBSA Name Tribe Name  \\\n",
       "11950       Bronx  New York  New York-Newark-Jersey City, NY-NJ-PA        NaN   \n",
       "11952       Bronx  New York  New York-Newark-Jersey City, NY-NJ-PA        NaN   \n",
       "11955       Bronx  New York  New York-Newark-Jersey City, NY-NJ-PA        NaN   \n",
       "12158       Kings  New York  New York-Newark-Jersey City, NY-NJ-PA        NaN   \n",
       "12273    New York  New York  New York-Newark-Jersey City, NY-NJ-PA        NaN   \n",
       "\n",
       "      Extraction Date  \n",
       "11950      2020-11-24  \n",
       "11952      2020-11-24  \n",
       "11955      2020-11-24  \n",
       "12158      2020-11-24  \n",
       "12273      2020-11-24  "
      ]
     },
     "execution_count": 20,
     "metadata": {},
     "output_type": "execute_result"
    }
   ],
   "source": [
    "df_sites.head()"
   ]
  },
  {
   "cell_type": "markdown",
   "metadata": {},
   "source": [
    "### Monitors"
   ]
  },
  {
   "cell_type": "code",
   "execution_count": 21,
   "metadata": {},
   "outputs": [
    {
     "name": "stderr",
     "output_type": "stream",
     "text": [
      "/Users/dinawagdy/opt/anaconda3/lib/python3.8/site-packages/IPython/core/interactiveshell.py:3146: DtypeWarning: Columns (0,30) have mixed types.Specify dtype option on import or set low_memory=False.\n",
      "  has_raised = await self.run_ast_nodes(code_ast.body, cell_name,\n"
     ]
    }
   ],
   "source": [
    "df_monitors = pd.read_csv(path+'aqs_monitors.csv')"
   ]
  },
  {
   "cell_type": "code",
   "execution_count": 22,
   "metadata": {},
   "outputs": [
    {
     "data": {
      "text/plain": [
       "Index(['State Code', 'County Code', 'Site Number', 'Parameter Code',\n",
       "       'Parameter Name', 'POC', 'Latitude', 'Longitude', 'Datum',\n",
       "       'First Year of Data', 'Last Sample Date', 'Monitor Type', 'Networks',\n",
       "       'Reporting Agency', 'PQAO', 'Collecting Agency', 'Exclusions',\n",
       "       'Monitoring Objective', 'Last Method Code', 'Last Method',\n",
       "       'Measurement Scale', 'Measurement Scale Definition',\n",
       "       'NAAQS Primary Monitor', 'QA Primary Monitor', 'Local Site Name',\n",
       "       'Address', 'State Name', 'County Name', 'City Name', 'CBSA Name',\n",
       "       'Tribe Name', 'Extraction Date'],\n",
       "      dtype='object')"
      ]
     },
     "execution_count": 22,
     "metadata": {},
     "output_type": "execute_result"
    }
   ],
   "source": [
    "df_monitors.columns"
   ]
  },
  {
   "cell_type": "code",
   "execution_count": 23,
   "metadata": {},
   "outputs": [],
   "source": [
    "df_monitors = df_monitors.loc[df_monitors['Site Number'].isin(sites_list)]"
   ]
  },
  {
   "cell_type": "code",
   "execution_count": 24,
   "metadata": {},
   "outputs": [],
   "source": [
    "#df_monitors = df_monitors.loc[df_monitors['Parameter Name'].isin(['Ozone','Sulfur Dioxide','Nitrogen dioxide (NO2)',\n",
    "                                                                 #'PM2.5 - Local Conditions'])]\n",
    "\n",
    "df_monitors = df_monitors.loc[df_monitors['Parameter Code'].isin([42401,88101,42602,44201])]\n",
    "df_monitors = df_monitors.loc[df_monitors['City Name']=='New York']\n",
    "\n",
    "df_monitors = df_monitors[['Site Number', 'Parameter Code',\n",
    "       'Parameter Name', 'POC', 'Latitude', 'Longitude', 'Datum', 'Last Sample Date',\n",
    "       'Reporting Agency', 'PQAO', 'Collecting Agency','Monitoring Objective',\n",
    "       'Measurement Scale', 'Measurement Scale Definition', 'Local Site Name',\n",
    "       'Address', 'City Name', 'Extraction Date']]"
   ]
  },
  {
   "cell_type": "code",
   "execution_count": 25,
   "metadata": {},
   "outputs": [
    {
     "data": {
      "text/plain": [
       "array(['MIDDLE SCALE', 'NEIGHBORHOOD', nan, 'URBAN SCALE'], dtype=object)"
      ]
     },
     "execution_count": 25,
     "metadata": {},
     "output_type": "execute_result"
    }
   ],
   "source": [
    "df_monitors['Measurement Scale'].unique()"
   ]
  },
  {
   "cell_type": "code",
   "execution_count": 26,
   "metadata": {},
   "outputs": [
    {
     "data": {
      "text/html": [
       "<div>\n",
       "<style scoped>\n",
       "    .dataframe tbody tr th:only-of-type {\n",
       "        vertical-align: middle;\n",
       "    }\n",
       "\n",
       "    .dataframe tbody tr th {\n",
       "        vertical-align: top;\n",
       "    }\n",
       "\n",
       "    .dataframe thead th {\n",
       "        text-align: right;\n",
       "    }\n",
       "</style>\n",
       "<table border=\"1\" class=\"dataframe\">\n",
       "  <thead>\n",
       "    <tr style=\"text-align: right;\">\n",
       "      <th></th>\n",
       "      <th>Site Number</th>\n",
       "      <th>Parameter Code</th>\n",
       "      <th>Parameter Name</th>\n",
       "      <th>POC</th>\n",
       "      <th>Latitude</th>\n",
       "      <th>Longitude</th>\n",
       "      <th>Datum</th>\n",
       "      <th>Last Sample Date</th>\n",
       "      <th>Reporting Agency</th>\n",
       "      <th>PQAO</th>\n",
       "      <th>Collecting Agency</th>\n",
       "      <th>Monitoring Objective</th>\n",
       "      <th>Measurement Scale</th>\n",
       "      <th>Measurement Scale Definition</th>\n",
       "      <th>Local Site Name</th>\n",
       "      <th>Address</th>\n",
       "      <th>City Name</th>\n",
       "      <th>Extraction Date</th>\n",
       "    </tr>\n",
       "  </thead>\n",
       "  <tbody>\n",
       "    <tr>\n",
       "      <th>207922</th>\n",
       "      <td>80</td>\n",
       "      <td>42401</td>\n",
       "      <td>Sulfur dioxide</td>\n",
       "      <td>1</td>\n",
       "      <td>40.836060</td>\n",
       "      <td>-73.920090</td>\n",
       "      <td>WGS84</td>\n",
       "      <td>2000-05-02</td>\n",
       "      <td>New York State Department Of Environmental Con...</td>\n",
       "      <td>New York State Department Of Environmental Con...</td>\n",
       "      <td>New York State Department Of Environmental Con...</td>\n",
       "      <td>HIGHEST CONCENTRATION</td>\n",
       "      <td>MIDDLE SCALE</td>\n",
       "      <td>100 M TO 500 M</td>\n",
       "      <td>MORRISANIA</td>\n",
       "      <td>MORRISANIA CENTER, 1225-57 GERARD AVE.</td>\n",
       "      <td>New York</td>\n",
       "      <td>2020-11-24</td>\n",
       "    </tr>\n",
       "    <tr>\n",
       "      <th>216364</th>\n",
       "      <td>125</td>\n",
       "      <td>42602</td>\n",
       "      <td>Nitrogen dioxide (NO2)</td>\n",
       "      <td>1</td>\n",
       "      <td>40.739264</td>\n",
       "      <td>-73.817694</td>\n",
       "      <td>NAD83</td>\n",
       "      <td>2020-09-30</td>\n",
       "      <td>New York State Department Of Environmental Con...</td>\n",
       "      <td>New York State Department Of Environmental Con...</td>\n",
       "      <td>New York State Department Of Environmental Con...</td>\n",
       "      <td>SOURCE ORIENTED</td>\n",
       "      <td>MIDDLE SCALE</td>\n",
       "      <td>100 M TO 500 M</td>\n",
       "      <td>Queens College Near Road</td>\n",
       "      <td>I-495, H Harding Expwy and 153rd St</td>\n",
       "      <td>New York</td>\n",
       "      <td>2020-11-24</td>\n",
       "    </tr>\n",
       "  </tbody>\n",
       "</table>\n",
       "</div>"
      ],
      "text/plain": [
       "        Site Number  Parameter Code          Parameter Name  POC   Latitude  \\\n",
       "207922           80           42401          Sulfur dioxide    1  40.836060   \n",
       "216364          125           42602  Nitrogen dioxide (NO2)    1  40.739264   \n",
       "\n",
       "        Longitude  Datum Last Sample Date  \\\n",
       "207922 -73.920090  WGS84       2000-05-02   \n",
       "216364 -73.817694  NAD83       2020-09-30   \n",
       "\n",
       "                                         Reporting Agency  \\\n",
       "207922  New York State Department Of Environmental Con...   \n",
       "216364  New York State Department Of Environmental Con...   \n",
       "\n",
       "                                                     PQAO  \\\n",
       "207922  New York State Department Of Environmental Con...   \n",
       "216364  New York State Department Of Environmental Con...   \n",
       "\n",
       "                                        Collecting Agency  \\\n",
       "207922  New York State Department Of Environmental Con...   \n",
       "216364  New York State Department Of Environmental Con...   \n",
       "\n",
       "         Monitoring Objective Measurement Scale Measurement Scale Definition  \\\n",
       "207922  HIGHEST CONCENTRATION      MIDDLE SCALE               100 M TO 500 M   \n",
       "216364        SOURCE ORIENTED      MIDDLE SCALE               100 M TO 500 M   \n",
       "\n",
       "                 Local Site Name                                 Address  \\\n",
       "207922                MORRISANIA  MORRISANIA CENTER, 1225-57 GERARD AVE.   \n",
       "216364  Queens College Near Road     I-495, H Harding Expwy and 153rd St   \n",
       "\n",
       "       City Name Extraction Date  \n",
       "207922  New York      2020-11-24  \n",
       "216364  New York      2020-11-24  "
      ]
     },
     "execution_count": 26,
     "metadata": {},
     "output_type": "execute_result"
    }
   ],
   "source": [
    "df_monitors.loc[df_monitors['Measurement Scale']=='MIDDLE SCALE'] #100m to 500m #Datum not WGS84, ignoring (for now)"
   ]
  },
  {
   "cell_type": "code",
   "execution_count": 27,
   "metadata": {
    "scrolled": true
   },
   "outputs": [],
   "source": [
    "urban_scale = df_monitors.loc[df_monitors['Measurement Scale']=='URBAN SCALE'].reset_index(drop=True) #covers 4km to 50km"
   ]
  },
  {
   "cell_type": "code",
   "execution_count": 28,
   "metadata": {},
   "outputs": [
    {
     "data": {
      "text/plain": [
       "[(110, 'Sulfur dioxide'),\n",
       " (110, 'Sulfur dioxide'),\n",
       " (110, 'Nitrogen dioxide (NO2)'),\n",
       " (110, 'Ozone'),\n",
       " (133, 'Sulfur dioxide'),\n",
       " (133, 'Sulfur dioxide'),\n",
       " (133, 'Nitrogen dioxide (NO2)'),\n",
       " (133, 'Ozone'),\n",
       " (135, 'Ozone'),\n",
       " (124, 'Ozone'),\n",
       " (67, 'Ozone')]"
      ]
     },
     "execution_count": 28,
     "metadata": {},
     "output_type": "execute_result"
    }
   ],
   "source": [
    "urban_scale_list = []\n",
    "for i in range(len(urban_scale)):\n",
    "    urban_scale_list.append((urban_scale['Site Number'][i], urban_scale['Parameter Name'][i]))\n",
    "urban_scale_list"
   ]
  },
  {
   "cell_type": "code",
   "execution_count": 29,
   "metadata": {
    "scrolled": true
   },
   "outputs": [],
   "source": [
    "neighborhood_scale = df_monitors.loc[df_monitors['Measurement Scale']=='NEIGHBORHOOD'].reset_index(drop=True) #covers 500m to 4km"
   ]
  },
  {
   "cell_type": "code",
   "execution_count": 30,
   "metadata": {},
   "outputs": [
    {
     "data": {
      "text/plain": [
       "[(80, 'Nitrogen dioxide (NO2)'),\n",
       " (80, 'Ozone'),\n",
       " (110, 'PM2.5 - Local Conditions'),\n",
       " (110, 'PM2.5 - Local Conditions'),\n",
       " (110, 'PM2.5 - Local Conditions'),\n",
       " (133, 'PM2.5 - Local Conditions'),\n",
       " (122, 'PM2.5 - Local Conditions'),\n",
       " (79, 'Sulfur dioxide'),\n",
       " (79, 'PM2.5 - Local Conditions'),\n",
       " (79, 'PM2.5 - Local Conditions'),\n",
       " (128, 'PM2.5 - Local Conditions'),\n",
       " (134, 'PM2.5 - Local Conditions'),\n",
       " (124, 'Sulfur dioxide'),\n",
       " (124, 'Sulfur dioxide'),\n",
       " (124, 'Sulfur dioxide'),\n",
       " (124, 'Nitrogen dioxide (NO2)'),\n",
       " (124, 'PM2.5 - Local Conditions'),\n",
       " (124, 'PM2.5 - Local Conditions'),\n",
       " (125, 'PM2.5 - Local Conditions'),\n",
       " (55, 'PM2.5 - Local Conditions'),\n",
       " (67, 'Sulfur dioxide'),\n",
       " (67, 'Sulfur dioxide'),\n",
       " (67, 'Sulfur dioxide'),\n",
       " (111, 'Ozone')]"
      ]
     },
     "execution_count": 30,
     "metadata": {},
     "output_type": "execute_result"
    }
   ],
   "source": [
    "neighborhood_scale_list = []\n",
    "for i in range(len(neighborhood_scale)):\n",
    "    neighborhood_scale_list.append((neighborhood_scale['Site Number'][i], neighborhood_scale['Parameter Name'][i]))\n",
    "neighborhood_scale_list"
   ]
  },
  {
   "cell_type": "code",
   "execution_count": 31,
   "metadata": {
    "scrolled": false
   },
   "outputs": [],
   "source": [
    "df_monitors.to_csv('/Users/dinawagdy/Documents/NYU CUSP/Semesters/Spring 2021/Applied Data Science/Project/EPA files/monitors.csv')"
   ]
  },
  {
   "cell_type": "code",
   "execution_count": 32,
   "metadata": {},
   "outputs": [],
   "source": [
    "#df_monitors = pd.read_csv('monitors.csv')"
   ]
  },
  {
   "cell_type": "markdown",
   "metadata": {},
   "source": [
    "## Some Exploratory Analysis"
   ]
  },
  {
   "cell_type": "code",
   "execution_count": 39,
   "metadata": {},
   "outputs": [],
   "source": [
    "x = frame_PM.loc[(frame_PM['Date Local']>'2015-06-05')& (frame_PM['Date Local']<'2020-06-05')]"
   ]
  },
  {
   "cell_type": "code",
   "execution_count": 40,
   "metadata": {
    "scrolled": false
   },
   "outputs": [
    {
     "data": {
      "image/png": "[encoded data removed]",
      "text/plain": [
       "<Figure size 1440x720 with 1 Axes>"
      ]
     },
     "metadata": {
      "needs_background": "light"
     },
     "output_type": "display_data"
    }
   ],
   "source": [
    "plt.figure(figsize=(20,10))\n",
    "plt.plot(x['Date Local'], x['Arithmetic Mean'])\n",
    "\n",
    "plt.xticks(rotation = 45)\n",
    "plt.xlabel('days')\n",
    "plt.ylabel('PM2.5 concentration')\n",
    "plt.grid(alpha = 0.5)\n",
    "plt.show()"
   ]
  },
  {
   "cell_type": "code",
   "execution_count": 42,
   "metadata": {},
   "outputs": [],
   "source": [
    "cds = gpd.read_file(\"/Users/dinawagdy/Documents/NYU CUSP/Semesters/Spring 2021/Applied Data Science/Project/CUSP2021ADS-Team-main/data/shp/nycd.shp\")\n",
    "cds = cds.to_crs(epsg = 4326)"
   ]
  },
  {
   "cell_type": "code",
   "execution_count": 50,
   "metadata": {},
   "outputs": [
    {
     "data": {
      "text/plain": [
       "<AxesSubplot:>"
      ]
     },
     "execution_count": 50,
     "metadata": {},
     "output_type": "execute_result"
    },
    {
     "data": {
      "image/png": "[encoded data removed]",
      "text/plain": [
       "<Figure size 432x288 with 1 Axes>"
      ]
     },
     "metadata": {
      "needs_background": "light"
     },
     "output_type": "display_data"
    }
   ],
   "source": [
    "cds.plot()"
   ]
  },
  {
   "cell_type": "code",
   "execution_count": 56,
   "metadata": {},
   "outputs": [],
   "source": [
    "geometry = [Point(xy) for xy in zip(df_monitors['Longitude'],df_monitors['Latitude'])]\n",
    "geo_df_monitors = gpd.GeoDataFrame(df_monitors, crs = 4326,geometry = geometry)\n",
    "geo_df_monitors = geo_df_monitors.drop(columns = ['Latitude','Longitude'])"
   ]
  },
  {
   "cell_type": "code",
   "execution_count": 69,
   "metadata": {},
   "outputs": [
    {
     "data": {
      "text/plain": [
       "<matplotlib.legend.Legend at 0x7fc0da8bf670>"
      ]
     },
     "execution_count": 69,
     "metadata": {},
     "output_type": "execute_result"
    },
    {
     "data": {
      "image/png": "[encoded data removed]",
      "text/plain": [
       "<Figure size 1080x1080 with 1 Axes>"
      ]
     },
     "metadata": {
      "needs_background": "light"
     },
     "output_type": "display_data"
    }
   ],
   "source": [
    "fig,ax = plt.subplots(figsize = (15,15))\n",
    "cds.plot(ax = ax, alpha = 0.8, color = 'grey')\n",
    "geo_df_monitors.loc[(geo_df_monitors['Measurement Scale']=='URBAN SCALE')&\\\n",
    "                   (geo_df_monitors['Site Number'].isin([110, 133, 135, 124, 67]))].\\\n",
    "                    plot(ax=ax,markersize = 5, marker = 'o',color = 'red', label = 'Urban Scale')\n",
    "plt.legend(prop={'size':10}) #covers 4km to 50km"
   ]
  },
  {
   "cell_type": "code",
   "execution_count": 70,
   "metadata": {},
   "outputs": [
    {
     "data": {
      "text/plain": [
       "<matplotlib.legend.Legend at 0x7fc0daee2760>"
      ]
     },
     "execution_count": 70,
     "metadata": {},
     "output_type": "execute_result"
    },
    {
     "data": {
      "image/png": "[encoded data removed]",
      "text/plain": [
       "<Figure size 1080x1080 with 1 Axes>"
      ]
     },
     "metadata": {
      "needs_background": "light"
     },
     "output_type": "display_data"
    }
   ],
   "source": [
    "fig,ax = plt.subplots(figsize = (15,15))\n",
    "cds.plot(ax = ax, alpha = 0.8, color = 'grey')\n",
    "geo_df_monitors.loc[(geo_df_monitors['Measurement Scale']=='NEIGHBORHOOD')&\\\n",
    "                   (geo_df_monitors['Site Number'].isin([80, 110, 133, 122, 79,128,134,124,125,55,67,111]))].\\\n",
    "                    plot(ax=ax,markersize = 5,color = 'blue', label = 'Neighborhood Scale')\n",
    "plt.legend(prop={'size':10}) #100m to 500m"
   ]
  },
  {
   "cell_type": "code",
   "execution_count": 84,
   "metadata": {},
   "outputs": [
    {
     "ename": "AttributeError",
     "evalue": "'list' object has no attribute 'plot'",
     "output_type": "error",
     "traceback": [
      "\u001b[0;31m---------------------------------------------------------------------------\u001b[0m",
      "\u001b[0;31mAttributeError\u001b[0m                            Traceback (most recent call last)",
      "\u001b[0;32m<ipython-input-84-89dcf77beccf>\u001b[0m in \u001b[0;36m<module>\u001b[0;34m\u001b[0m\n\u001b[1;32m     19\u001b[0m \u001b[0;31m# Example\u001b[0m\u001b[0;34m\u001b[0m\u001b[0;34m\u001b[0m\u001b[0;34m\u001b[0m\u001b[0m\n\u001b[1;32m     20\u001b[0m \u001b[0mb\u001b[0m \u001b[0;34m=\u001b[0m \u001b[0mgeodesic_point_buffer\u001b[0m\u001b[0;34m(\u001b[0m\u001b[0;36m45.4\u001b[0m\u001b[0;34m,\u001b[0m \u001b[0;34m-\u001b[0m\u001b[0;36m75.7\u001b[0m\u001b[0;34m,\u001b[0m \u001b[0;36m100.0\u001b[0m\u001b[0;34m)\u001b[0m\u001b[0;34m\u001b[0m\u001b[0;34m\u001b[0m\u001b[0m\n\u001b[0;32m---> 21\u001b[0;31m \u001b[0mb\u001b[0m\u001b[0;34m.\u001b[0m\u001b[0mplot\u001b[0m\u001b[0;34m\u001b[0m\u001b[0;34m\u001b[0m\u001b[0m\n\u001b[0m",
      "\u001b[0;31mAttributeError\u001b[0m: 'list' object has no attribute 'plot'"
     ]
    }
   ],
   "source": [
    "from functools import partial\n",
    "import pyproj\n",
    "from shapely.ops import transform\n",
    "from shapely.geometry import Point\n",
    "\n",
    "proj_wgs84 = pyproj.Proj('+proj=longlat +datum=WGS84')\n",
    "\n",
    "\n",
    "def geodesic_point_buffer(lat, lon, km):\n",
    "    # Azimuthal equidistant projection\n",
    "    aeqd_proj = '+proj=aeqd +lat_0={lat} +lon_0={lon} +x_0=0 +y_0=0'\n",
    "    project = partial(\n",
    "        pyproj.transform,\n",
    "        pyproj.Proj(aeqd_proj.format(lat=lat, lon=lon)),\n",
    "        proj_wgs84)\n",
    "    buf = Point(0, 0).buffer(km * 1000)  # distance in metres\n",
    "    return transform(project, buf).exterior.coords[:]\n",
    "\n",
    "# Example\n",
    "b = geodesic_point_buffer(45.4, -75.7, 100.0)\n",
    "b.plot\n",
    "\n",
    "lat = [the list of lat coordinates here] \n",
    "lon = [the list of lon coordinates here] \n",
    "\n",
    "x, y = m(lon, lat)\n",
    "m.plot(x, y, 'o-', markersize=5, linewidth=1) \n"
   ]
  },
  {
   "cell_type": "code",
   "execution_count": 49,
   "metadata": {},
   "outputs": [
    {
     "data": {
      "text/plain": [
       "<AxesSubplot:>"
      ]
     },
     "execution_count": 49,
     "metadata": {},
     "output_type": "execute_result"
    },
    {
     "data": {
      "image/png": "[encoded data removed]",
      "text/plain": [
       "<Figure size 432x288 with 1 Axes>"
      ]
     },
     "metadata": {
      "needs_background": "light"
     },
     "output_type": "display_data"
    }
   ],
   "source": [
    "import geopandas as gpd\n",
    "from shapely.geometry import Point\n",
    "import matplotlib.pyplot as plt\n",
    "\n",
    "# Generate some sample data \n",
    "p1 = Point((1,2))\n",
    "p2 = Point((6,8))\n",
    "points = gpd.GeoSeries([p1,p2])\n",
    "\n",
    "# Buffer the points using a square cap style\n",
    "# Note cap_style: round = 1, flat = 2, square = 3\n",
    "buffer = points.buffer(2, cap_style = 3)\n",
    "\n",
    "# Plot the results\n",
    "fig, ax1 = plt.subplots()\n",
    "buffer.boundary.plot(ax=ax1, color = 'slategrey')\n",
    "points.plot(ax = ax1, color = 'red')"
   ]
  },
  {
   "cell_type": "code",
   "execution_count": 73,
   "metadata": {},
   "outputs": [
    {
     "ename": "ValueError",
     "evalue": "Length of values (45) does not match length of index (2)",
     "output_type": "error",
     "traceback": [
      "\u001b[0;31m---------------------------------------------------------------------------\u001b[0m",
      "\u001b[0;31mValueError\u001b[0m                                Traceback (most recent call last)",
      "\u001b[0;32m<ipython-input-73-6870ef20d630>\u001b[0m in \u001b[0;36m<module>\u001b[0;34m\u001b[0m\n\u001b[1;32m      5\u001b[0m     \u001b[0mdata\u001b[0m \u001b[0;34m=\u001b[0m \u001b[0mdata\u001b[0m\u001b[0;34m.\u001b[0m\u001b[0mto_crs\u001b[0m\u001b[0;34m(\u001b[0m\u001b[0mcrs\u001b[0m\u001b[0;34m)\u001b[0m\u001b[0;34m\u001b[0m\u001b[0;34m\u001b[0m\u001b[0m\n\u001b[1;32m      6\u001b[0m     \u001b[0;32mreturn\u001b[0m \u001b[0mdata\u001b[0m\u001b[0;34m\u001b[0m\u001b[0;34m\u001b[0m\u001b[0m\n\u001b[0;32m----> 7\u001b[0;31m \u001b[0mgenerate_buffer_meter\u001b[0m\u001b[0;34m(\u001b[0m\u001b[0;34m(\u001b[0m\u001b[0;36m45.4\u001b[0m\u001b[0;34m,\u001b[0m \u001b[0;34m-\u001b[0m\u001b[0;36m75.7\u001b[0m\u001b[0;34m)\u001b[0m\u001b[0;34m,\u001b[0m\u001b[0;36m50\u001b[0m\u001b[0;34m,\u001b[0m\u001b[0mgeometry\u001b[0m \u001b[0;34m=\u001b[0m \u001b[0mgeometry\u001b[0m\u001b[0;34m)\u001b[0m\u001b[0;34m\u001b[0m\u001b[0;34m\u001b[0m\u001b[0m\n\u001b[0m",
      "\u001b[0;32m<ipython-input-73-6870ef20d630>\u001b[0m in \u001b[0;36mgenerate_buffer_meter\u001b[0;34m(data, radiu, geometry, crs)\u001b[0m\n\u001b[1;32m      1\u001b[0m \u001b[0;32mdef\u001b[0m \u001b[0mgenerate_buffer_meter\u001b[0m\u001b[0;34m(\u001b[0m\u001b[0mdata\u001b[0m\u001b[0;34m,\u001b[0m \u001b[0mradiu\u001b[0m\u001b[0;34m,\u001b[0m \u001b[0mgeometry\u001b[0m\u001b[0;34m=\u001b[0m\u001b[0;34m'geometry'\u001b[0m\u001b[0;34m,\u001b[0m \u001b[0mcrs\u001b[0m\u001b[0;34m=\u001b[0m\u001b[0;34m'epsg:4326'\u001b[0m\u001b[0;34m)\u001b[0m\u001b[0;34m:\u001b[0m\u001b[0;34m\u001b[0m\u001b[0;34m\u001b[0m\u001b[0m\n\u001b[0;32m----> 2\u001b[0;31m     \u001b[0mdata\u001b[0m \u001b[0;34m=\u001b[0m \u001b[0mgpd\u001b[0m\u001b[0;34m.\u001b[0m\u001b[0mGeoDataFrame\u001b[0m\u001b[0;34m(\u001b[0m\u001b[0mdata\u001b[0m\u001b[0;34m,\u001b[0m \u001b[0mgeometry\u001b[0m\u001b[0;34m=\u001b[0m\u001b[0mgeometry\u001b[0m\u001b[0;34m,\u001b[0m \u001b[0mcrs\u001b[0m\u001b[0;34m=\u001b[0m\u001b[0mcrs\u001b[0m\u001b[0;34m)\u001b[0m\u001b[0;34m\u001b[0m\u001b[0;34m\u001b[0m\u001b[0m\n\u001b[0m\u001b[1;32m      3\u001b[0m     \u001b[0mdata\u001b[0m \u001b[0;34m=\u001b[0m \u001b[0mdata\u001b[0m\u001b[0;34m.\u001b[0m\u001b[0mto_crs\u001b[0m\u001b[0;34m(\u001b[0m\u001b[0;34m'+proj=aeqd +units=m  +x_0=0 +y_0=0'\u001b[0m\u001b[0;34m)\u001b[0m\u001b[0;34m\u001b[0m\u001b[0;34m\u001b[0m\u001b[0m\n\u001b[1;32m      4\u001b[0m     \u001b[0mdata\u001b[0m\u001b[0;34m[\u001b[0m\u001b[0mgeometry\u001b[0m\u001b[0;34m]\u001b[0m \u001b[0;34m=\u001b[0m \u001b[0mdata\u001b[0m\u001b[0;34m[\u001b[0m\u001b[0mgeometry\u001b[0m\u001b[0;34m]\u001b[0m\u001b[0;34m.\u001b[0m\u001b[0mbuffer\u001b[0m\u001b[0;34m(\u001b[0m\u001b[0mradiu\u001b[0m\u001b[0;34m)\u001b[0m\u001b[0;34m\u001b[0m\u001b[0;34m\u001b[0m\u001b[0m\n\u001b[1;32m      5\u001b[0m     \u001b[0mdata\u001b[0m \u001b[0;34m=\u001b[0m \u001b[0mdata\u001b[0m\u001b[0;34m.\u001b[0m\u001b[0mto_crs\u001b[0m\u001b[0;34m(\u001b[0m\u001b[0mcrs\u001b[0m\u001b[0;34m)\u001b[0m\u001b[0;34m\u001b[0m\u001b[0;34m\u001b[0m\u001b[0m\n",
      "\u001b[0;32m~/opt/anaconda3/lib/python3.8/site-packages/geopandas/geodataframe.py\u001b[0m in \u001b[0;36m__init__\u001b[0;34m(self, geometry, crs, *args, **kwargs)\u001b[0m\n\u001b[1;32m    165\u001b[0m                 )\n\u001b[1;32m    166\u001b[0m                 \u001b[0;31m# TODO: raise error in 0.9 or 0.10.\u001b[0m\u001b[0;34m\u001b[0m\u001b[0;34m\u001b[0m\u001b[0;34m\u001b[0m\u001b[0m\n\u001b[0;32m--> 167\u001b[0;31m             \u001b[0mself\u001b[0m\u001b[0;34m.\u001b[0m\u001b[0mset_geometry\u001b[0m\u001b[0;34m(\u001b[0m\u001b[0mgeometry\u001b[0m\u001b[0;34m,\u001b[0m \u001b[0minplace\u001b[0m\u001b[0;34m=\u001b[0m\u001b[0;32mTrue\u001b[0m\u001b[0;34m)\u001b[0m\u001b[0;34m\u001b[0m\u001b[0;34m\u001b[0m\u001b[0m\n\u001b[0m\u001b[1;32m    168\u001b[0m \u001b[0;34m\u001b[0m\u001b[0m\n\u001b[1;32m    169\u001b[0m         \u001b[0;32mif\u001b[0m \u001b[0mgeometry\u001b[0m \u001b[0;32mis\u001b[0m \u001b[0;32mNone\u001b[0m \u001b[0;32mand\u001b[0m \u001b[0mcrs\u001b[0m\u001b[0;34m:\u001b[0m\u001b[0;34m\u001b[0m\u001b[0;34m\u001b[0m\u001b[0m\n",
      "\u001b[0;32m~/opt/anaconda3/lib/python3.8/site-packages/geopandas/geodataframe.py\u001b[0m in \u001b[0;36mset_geometry\u001b[0;34m(self, col, drop, inplace, crs)\u001b[0m\n\u001b[1;32m    295\u001b[0m         \u001b[0mlevel\u001b[0m \u001b[0;34m=\u001b[0m \u001b[0m_ensure_geometry\u001b[0m\u001b[0;34m(\u001b[0m\u001b[0mlevel\u001b[0m\u001b[0;34m,\u001b[0m \u001b[0mcrs\u001b[0m\u001b[0;34m=\u001b[0m\u001b[0mcrs\u001b[0m\u001b[0;34m)\u001b[0m\u001b[0;34m\u001b[0m\u001b[0;34m\u001b[0m\u001b[0m\n\u001b[1;32m    296\u001b[0m         \u001b[0mindex\u001b[0m \u001b[0;34m=\u001b[0m \u001b[0mframe\u001b[0m\u001b[0;34m.\u001b[0m\u001b[0mindex\u001b[0m\u001b[0;34m\u001b[0m\u001b[0;34m\u001b[0m\u001b[0m\n\u001b[0;32m--> 297\u001b[0;31m         \u001b[0mframe\u001b[0m\u001b[0;34m[\u001b[0m\u001b[0mgeo_column_name\u001b[0m\u001b[0;34m]\u001b[0m \u001b[0;34m=\u001b[0m \u001b[0mlevel\u001b[0m\u001b[0;34m\u001b[0m\u001b[0;34m\u001b[0m\u001b[0m\n\u001b[0m\u001b[1;32m    298\u001b[0m         \u001b[0;32mif\u001b[0m \u001b[0mframe\u001b[0m\u001b[0;34m.\u001b[0m\u001b[0mindex\u001b[0m \u001b[0;32mis\u001b[0m \u001b[0;32mnot\u001b[0m \u001b[0mindex\u001b[0m \u001b[0;32mand\u001b[0m \u001b[0mlen\u001b[0m\u001b[0;34m(\u001b[0m\u001b[0mframe\u001b[0m\u001b[0;34m.\u001b[0m\u001b[0mindex\u001b[0m\u001b[0;34m)\u001b[0m \u001b[0;34m==\u001b[0m \u001b[0mlen\u001b[0m\u001b[0;34m(\u001b[0m\u001b[0mindex\u001b[0m\u001b[0;34m)\u001b[0m\u001b[0;34m:\u001b[0m\u001b[0;34m\u001b[0m\u001b[0;34m\u001b[0m\u001b[0m\n\u001b[1;32m    299\u001b[0m             \u001b[0;31m# With pandas < 1.0 and an empty frame (no rows), the index gets reset\u001b[0m\u001b[0;34m\u001b[0m\u001b[0;34m\u001b[0m\u001b[0;34m\u001b[0m\u001b[0m\n",
      "\u001b[0;32m~/opt/anaconda3/lib/python3.8/site-packages/geopandas/geodataframe.py\u001b[0m in \u001b[0;36m__setitem__\u001b[0;34m(self, key, value)\u001b[0m\n\u001b[1;32m   1320\u001b[0m             \u001b[0;32mexcept\u001b[0m \u001b[0mTypeError\u001b[0m\u001b[0;34m:\u001b[0m\u001b[0;34m\u001b[0m\u001b[0;34m\u001b[0m\u001b[0m\n\u001b[1;32m   1321\u001b[0m                 \u001b[0mwarnings\u001b[0m\u001b[0;34m.\u001b[0m\u001b[0mwarn\u001b[0m\u001b[0;34m(\u001b[0m\u001b[0;34m\"Geometry column does not contain geometry.\"\u001b[0m\u001b[0;34m)\u001b[0m\u001b[0;34m\u001b[0m\u001b[0;34m\u001b[0m\u001b[0m\n\u001b[0;32m-> 1322\u001b[0;31m         \u001b[0msuper\u001b[0m\u001b[0;34m(\u001b[0m\u001b[0mGeoDataFrame\u001b[0m\u001b[0;34m,\u001b[0m \u001b[0mself\u001b[0m\u001b[0;34m)\u001b[0m\u001b[0;34m.\u001b[0m\u001b[0m__setitem__\u001b[0m\u001b[0;34m(\u001b[0m\u001b[0mkey\u001b[0m\u001b[0;34m,\u001b[0m \u001b[0mvalue\u001b[0m\u001b[0;34m)\u001b[0m\u001b[0;34m\u001b[0m\u001b[0;34m\u001b[0m\u001b[0m\n\u001b[0m\u001b[1;32m   1323\u001b[0m \u001b[0;34m\u001b[0m\u001b[0m\n\u001b[1;32m   1324\u001b[0m     \u001b[0;31m#\u001b[0m\u001b[0;34m\u001b[0m\u001b[0;34m\u001b[0m\u001b[0;34m\u001b[0m\u001b[0m\n",
      "\u001b[0;32m~/opt/anaconda3/lib/python3.8/site-packages/pandas/core/frame.py\u001b[0m in \u001b[0;36m__setitem__\u001b[0;34m(self, key, value)\u001b[0m\n\u001b[1;32m   3038\u001b[0m         \u001b[0;32melse\u001b[0m\u001b[0;34m:\u001b[0m\u001b[0;34m\u001b[0m\u001b[0;34m\u001b[0m\u001b[0m\n\u001b[1;32m   3039\u001b[0m             \u001b[0;31m# set column\u001b[0m\u001b[0;34m\u001b[0m\u001b[0;34m\u001b[0m\u001b[0;34m\u001b[0m\u001b[0m\n\u001b[0;32m-> 3040\u001b[0;31m             \u001b[0mself\u001b[0m\u001b[0;34m.\u001b[0m\u001b[0m_set_item\u001b[0m\u001b[0;34m(\u001b[0m\u001b[0mkey\u001b[0m\u001b[0;34m,\u001b[0m \u001b[0mvalue\u001b[0m\u001b[0;34m)\u001b[0m\u001b[0;34m\u001b[0m\u001b[0;34m\u001b[0m\u001b[0m\n\u001b[0m\u001b[1;32m   3041\u001b[0m \u001b[0;34m\u001b[0m\u001b[0m\n\u001b[1;32m   3042\u001b[0m     \u001b[0;32mdef\u001b[0m \u001b[0m_setitem_slice\u001b[0m\u001b[0;34m(\u001b[0m\u001b[0mself\u001b[0m\u001b[0;34m,\u001b[0m \u001b[0mkey\u001b[0m\u001b[0;34m:\u001b[0m \u001b[0mslice\u001b[0m\u001b[0;34m,\u001b[0m \u001b[0mvalue\u001b[0m\u001b[0;34m)\u001b[0m\u001b[0;34m:\u001b[0m\u001b[0;34m\u001b[0m\u001b[0;34m\u001b[0m\u001b[0m\n",
      "\u001b[0;32m~/opt/anaconda3/lib/python3.8/site-packages/pandas/core/frame.py\u001b[0m in \u001b[0;36m_set_item\u001b[0;34m(self, key, value)\u001b[0m\n\u001b[1;32m   3114\u001b[0m         \"\"\"\n\u001b[1;32m   3115\u001b[0m         \u001b[0mself\u001b[0m\u001b[0;34m.\u001b[0m\u001b[0m_ensure_valid_index\u001b[0m\u001b[0;34m(\u001b[0m\u001b[0mvalue\u001b[0m\u001b[0;34m)\u001b[0m\u001b[0;34m\u001b[0m\u001b[0;34m\u001b[0m\u001b[0m\n\u001b[0;32m-> 3116\u001b[0;31m         \u001b[0mvalue\u001b[0m \u001b[0;34m=\u001b[0m \u001b[0mself\u001b[0m\u001b[0;34m.\u001b[0m\u001b[0m_sanitize_column\u001b[0m\u001b[0;34m(\u001b[0m\u001b[0mkey\u001b[0m\u001b[0;34m,\u001b[0m \u001b[0mvalue\u001b[0m\u001b[0;34m)\u001b[0m\u001b[0;34m\u001b[0m\u001b[0;34m\u001b[0m\u001b[0m\n\u001b[0m\u001b[1;32m   3117\u001b[0m         \u001b[0mNDFrame\u001b[0m\u001b[0;34m.\u001b[0m\u001b[0m_set_item\u001b[0m\u001b[0;34m(\u001b[0m\u001b[0mself\u001b[0m\u001b[0;34m,\u001b[0m \u001b[0mkey\u001b[0m\u001b[0;34m,\u001b[0m \u001b[0mvalue\u001b[0m\u001b[0;34m)\u001b[0m\u001b[0;34m\u001b[0m\u001b[0;34m\u001b[0m\u001b[0m\n\u001b[1;32m   3118\u001b[0m \u001b[0;34m\u001b[0m\u001b[0m\n",
      "\u001b[0;32m~/opt/anaconda3/lib/python3.8/site-packages/pandas/core/frame.py\u001b[0m in \u001b[0;36m_sanitize_column\u001b[0;34m(self, key, value, broadcast)\u001b[0m\n\u001b[1;32m   3757\u001b[0m             \u001b[0;31m# as sanitize_index won't copy an EA, even with copy=True\u001b[0m\u001b[0;34m\u001b[0m\u001b[0;34m\u001b[0m\u001b[0;34m\u001b[0m\u001b[0m\n\u001b[1;32m   3758\u001b[0m             \u001b[0mvalue\u001b[0m \u001b[0;34m=\u001b[0m \u001b[0mvalue\u001b[0m\u001b[0;34m.\u001b[0m\u001b[0mcopy\u001b[0m\u001b[0;34m(\u001b[0m\u001b[0;34m)\u001b[0m\u001b[0;34m\u001b[0m\u001b[0;34m\u001b[0m\u001b[0m\n\u001b[0;32m-> 3759\u001b[0;31m             \u001b[0mvalue\u001b[0m \u001b[0;34m=\u001b[0m \u001b[0msanitize_index\u001b[0m\u001b[0;34m(\u001b[0m\u001b[0mvalue\u001b[0m\u001b[0;34m,\u001b[0m \u001b[0mself\u001b[0m\u001b[0;34m.\u001b[0m\u001b[0mindex\u001b[0m\u001b[0;34m)\u001b[0m\u001b[0;34m\u001b[0m\u001b[0;34m\u001b[0m\u001b[0m\n\u001b[0m\u001b[1;32m   3760\u001b[0m \u001b[0;34m\u001b[0m\u001b[0m\n\u001b[1;32m   3761\u001b[0m         \u001b[0;32melif\u001b[0m \u001b[0misinstance\u001b[0m\u001b[0;34m(\u001b[0m\u001b[0mvalue\u001b[0m\u001b[0;34m,\u001b[0m \u001b[0mIndex\u001b[0m\u001b[0;34m)\u001b[0m \u001b[0;32mor\u001b[0m \u001b[0mis_sequence\u001b[0m\u001b[0;34m(\u001b[0m\u001b[0mvalue\u001b[0m\u001b[0;34m)\u001b[0m\u001b[0;34m:\u001b[0m\u001b[0;34m\u001b[0m\u001b[0;34m\u001b[0m\u001b[0m\n",
      "\u001b[0;32m~/opt/anaconda3/lib/python3.8/site-packages/pandas/core/internals/construction.py\u001b[0m in \u001b[0;36msanitize_index\u001b[0;34m(data, index)\u001b[0m\n\u001b[1;32m    745\u001b[0m     \"\"\"\n\u001b[1;32m    746\u001b[0m     \u001b[0;32mif\u001b[0m \u001b[0mlen\u001b[0m\u001b[0;34m(\u001b[0m\u001b[0mdata\u001b[0m\u001b[0;34m)\u001b[0m \u001b[0;34m!=\u001b[0m \u001b[0mlen\u001b[0m\u001b[0;34m(\u001b[0m\u001b[0mindex\u001b[0m\u001b[0;34m)\u001b[0m\u001b[0;34m:\u001b[0m\u001b[0;34m\u001b[0m\u001b[0;34m\u001b[0m\u001b[0m\n\u001b[0;32m--> 747\u001b[0;31m         raise ValueError(\n\u001b[0m\u001b[1;32m    748\u001b[0m             \u001b[0;34m\"Length of values \"\u001b[0m\u001b[0;34m\u001b[0m\u001b[0;34m\u001b[0m\u001b[0m\n\u001b[1;32m    749\u001b[0m             \u001b[0;34mf\"({len(data)}) \"\u001b[0m\u001b[0;34m\u001b[0m\u001b[0;34m\u001b[0m\u001b[0m\n",
      "\u001b[0;31mValueError\u001b[0m: Length of values (45) does not match length of index (2)"
     ]
    }
   ],
   "source": [
    "def generate_buffer_meter(data, radiu, geometry='geometry', crs='epsg:4326'):\n",
    "    data = gpd.GeoDataFrame(data, geometry=geometry, crs=crs)\n",
    "    data = data.to_crs('+proj=aeqd +units=m  +x_0=0 +y_0=0')\n",
    "    data[geometry] = data[geometry].buffer(radiu)\n",
    "    data = data.to_crs(crs)\n",
    "    return data\n",
    "generate_buffer_meter((45.4, -75.7),50,geometry = geometry)"
   ]
  },
  {
   "cell_type": "code",
   "execution_count": 79,
   "metadata": {},
   "outputs": [],
   "source": [
    "import math\n",
    "import numpy as np"
   ]
  },
  {
   "cell_type": "code",
   "execution_count": 81,
   "metadata": {},
   "outputs": [],
   "source": [
    "polygonSides = 360\n",
    "lat = (40.836060*111.320)*1000\n",
    "lonNum = 111320*math.cos(40.836060)\n",
    "lon = abs(-73.92)*111320\n",
    "\n",
    "points_list = [ (-1*((lon + np.sin(angle)*0.1)/111320), (lat + np.cos(angle)*0.1)/111320) \n",
    "for angle in np.linspace(0, 2*np.pi, polygonSides, endpoint = False) ]"
   ]
  },
  {
   "cell_type": "code",
   "execution_count": null,
   "metadata": {},
   "outputs": [],
   "source": []
  }
 ],
 "metadata": {
  "kernelspec": {
   "display_name": "Python 3",
   "language": "python",
   "name": "python3"
  },
  "language_info": {
   "codemirror_mode": {
    "name": "ipython",
    "version": 3
   },
   "file_extension": ".py",
   "mimetype": "text/x-python",
   "name": "python",
   "nbconvert_exporter": "python",
   "pygments_lexer": "ipython3",
   "version": "3.8.5"
  }
 },
 "nbformat": 4,
 "nbformat_minor": 4
}
